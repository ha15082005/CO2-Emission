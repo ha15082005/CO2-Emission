{
 "cells": [
  {
   "cell_type": "code",
   "execution_count": 1,
   "id": "a96a8423",
   "metadata": {
    "_cell_guid": "b1076dfc-b9ad-4769-8c92-a6c4dae69d19",
    "_uuid": "8f2839f25d086af736a60e9eeb907d3b93b6e0e5",
    "execution": {
     "iopub.execute_input": "2024-03-21T16:39:56.674010Z",
     "iopub.status.busy": "2024-03-21T16:39:56.673535Z",
     "iopub.status.idle": "2024-03-21T16:39:57.685979Z",
     "shell.execute_reply": "2024-03-21T16:39:57.684600Z"
    },
    "papermill": {
     "duration": 1.030665,
     "end_time": "2024-03-21T16:39:57.688796",
     "exception": false,
     "start_time": "2024-03-21T16:39:56.658131",
     "status": "completed"
    },
    "tags": []
   },
   "outputs": [
    {
     "name": "stdout",
     "output_type": "stream",
     "text": [
      "/kaggle/input/world-population/pop.csv\n",
      "/kaggle/input/world-gdpgdp-gdp-per-capita-and-annual-growths/gdp_growth.csv\n",
      "/kaggle/input/world-gdpgdp-gdp-per-capita-and-annual-growths/gdp_ppp_per_capita.csv\n",
      "/kaggle/input/world-gdpgdp-gdp-per-capita-and-annual-growths/gdp_ppp.csv\n",
      "/kaggle/input/world-gdpgdp-gdp-per-capita-and-annual-growths/gdp.csv\n",
      "/kaggle/input/world-gdpgdp-gdp-per-capita-and-annual-growths/gdp_per_capita.csv\n",
      "/kaggle/input/world-gdpgdp-gdp-per-capita-and-annual-growths/gdp_per_capita_growth.csv\n",
      "/kaggle/input/country-classification/country_classification.csv\n",
      "/kaggle/input/co2-emissions-by-country/co2_emissions_kt_by_country.csv\n"
     ]
    }
   ],
   "source": [
    "# This Python 3 environment comes with many helpful analytics libraries installed\n",
    "# It is defined by the kaggle/python Docker image: https://github.com/kaggle/docker-python\n",
    "# For example, here's several helpful packages to load\n",
    "\n",
    "import numpy as np # linear algebra\n",
    "import pandas as pd # data processing, CSV file I/O (e.g. pd.read_csv)\n",
    "\n",
    "# Input data files are available in the read-only \"../input/\" directory\n",
    "# For example, running this (by clicking run or pressing Shift+Enter) will list all files under the input directory\n",
    "\n",
    "import os\n",
    "for dirname, _, filenames in os.walk('/kaggle/input'):\n",
    "    for filename in filenames:\n",
    "        print(os.path.join(dirname, filename))\n",
    "\n",
    "# You can write up to 20GB to the current directory (/kaggle/working/) that gets preserved as output when you create a version using \"Save & Run All\" \n",
    "# You can also write temporary files to /kaggle/temp/, but they won't be saved outside of the current session"
   ]
  },
  {
   "cell_type": "markdown",
   "id": "2e75759e",
   "metadata": {
    "papermill": {
     "duration": 0.012891,
     "end_time": "2024-03-21T16:39:57.714795",
     "exception": false,
     "start_time": "2024-03-21T16:39:57.701904",
     "status": "completed"
    },
    "tags": []
   },
   "source": [
    "**Read the csv file for GDP per capita and CO2 emission**"
   ]
  },
  {
   "cell_type": "code",
   "execution_count": 2,
   "id": "1bc3d864",
   "metadata": {
    "execution": {
     "iopub.execute_input": "2024-03-21T16:39:57.744327Z",
     "iopub.status.busy": "2024-03-21T16:39:57.743736Z",
     "iopub.status.idle": "2024-03-21T16:39:57.773455Z",
     "shell.execute_reply": "2024-03-21T16:39:57.772444Z"
    },
    "papermill": {
     "duration": 0.047758,
     "end_time": "2024-03-21T16:39:57.776038",
     "exception": false,
     "start_time": "2024-03-21T16:39:57.728280",
     "status": "completed"
    },
    "tags": []
   },
   "outputs": [],
   "source": [
    "gdpPerCapitaDF = pd.read_csv('/kaggle/input/world-gdpgdp-gdp-per-capita-and-annual-growths/gdp_per_capita.csv');"
   ]
  },
  {
   "cell_type": "code",
   "execution_count": 3,
   "id": "5c4943f0",
   "metadata": {
    "execution": {
     "iopub.execute_input": "2024-03-21T16:39:57.805571Z",
     "iopub.status.busy": "2024-03-21T16:39:57.804477Z",
     "iopub.status.idle": "2024-03-21T16:39:57.834835Z",
     "shell.execute_reply": "2024-03-21T16:39:57.833759Z"
    },
    "papermill": {
     "duration": 0.047246,
     "end_time": "2024-03-21T16:39:57.837531",
     "exception": false,
     "start_time": "2024-03-21T16:39:57.790285",
     "status": "completed"
    },
    "tags": []
   },
   "outputs": [],
   "source": [
    "co2EmissionDF = pd.read_csv('/kaggle/input/co2-emissions-by-country/co2_emissions_kt_by_country.csv')"
   ]
  },
  {
   "cell_type": "code",
   "execution_count": 4,
   "id": "8e61d16b",
   "metadata": {
    "execution": {
     "iopub.execute_input": "2024-03-21T16:39:57.865062Z",
     "iopub.status.busy": "2024-03-21T16:39:57.864606Z",
     "iopub.status.idle": "2024-03-21T16:39:57.888005Z",
     "shell.execute_reply": "2024-03-21T16:39:57.886898Z"
    },
    "papermill": {
     "duration": 0.039945,
     "end_time": "2024-03-21T16:39:57.890327",
     "exception": false,
     "start_time": "2024-03-21T16:39:57.850382",
     "status": "completed"
    },
    "tags": []
   },
   "outputs": [
    {
     "data": {
      "text/plain": [
       "0    29350.805019\n",
       "Name: 2017, dtype: float64"
      ]
     },
     "execution_count": 4,
     "metadata": {},
     "output_type": "execute_result"
    }
   ],
   "source": [
    "co2EmissionDF[(co2EmissionDF['country_code'] == 'ABW') ]\n",
    "gdpPerCapitaDF[gdpPerCapitaDF['Code'] == 'ABW']['2017']"
   ]
  },
  {
   "cell_type": "code",
   "execution_count": 5,
   "id": "76fc8224",
   "metadata": {
    "execution": {
     "iopub.execute_input": "2024-03-21T16:39:57.918475Z",
     "iopub.status.busy": "2024-03-21T16:39:57.918053Z",
     "iopub.status.idle": "2024-03-21T16:39:57.924028Z",
     "shell.execute_reply": "2024-03-21T16:39:57.922818Z"
    },
    "papermill": {
     "duration": 0.023009,
     "end_time": "2024-03-21T16:39:57.926408",
     "exception": false,
     "start_time": "2024-03-21T16:39:57.903399",
     "status": "completed"
    },
    "tags": []
   },
   "outputs": [],
   "source": [
    "generalDF = pd.DataFrame()"
   ]
  },
  {
   "cell_type": "markdown",
   "id": "8a401daf",
   "metadata": {
    "papermill": {
     "duration": 0.012591,
     "end_time": "2024-03-21T16:39:57.952018",
     "exception": false,
     "start_time": "2024-03-21T16:39:57.939427",
     "status": "completed"
    },
    "tags": []
   },
   "source": [
    "***Combining Tables***\n"
   ]
  },
  {
   "cell_type": "code",
   "execution_count": 6,
   "id": "ad18074d",
   "metadata": {
    "execution": {
     "iopub.execute_input": "2024-03-21T16:39:57.980429Z",
     "iopub.status.busy": "2024-03-21T16:39:57.979997Z",
     "iopub.status.idle": "2024-03-21T16:39:57.991598Z",
     "shell.execute_reply": "2024-03-21T16:39:57.990523Z"
    },
    "papermill": {
     "duration": 0.028823,
     "end_time": "2024-03-21T16:39:57.993962",
     "exception": false,
     "start_time": "2024-03-21T16:39:57.965139",
     "status": "completed"
    },
    "tags": []
   },
   "outputs": [
    {
     "data": {
      "text/plain": [
       "array(['ABW', 'AFE', 'AFG', 'AFW', 'AGO', 'ALB', 'AND', 'ARB', 'ARE',\n",
       "       'ARG', 'ARM', 'ASM', 'ATG', 'AUS', 'AUT', 'AZE', 'BDI', 'BEL',\n",
       "       'BEN', 'BFA', 'BGD', 'BGR', 'BHR', 'BHS', 'BIH', 'BLR', 'BLZ',\n",
       "       'BMU', 'BOL', 'BRA', 'BRB', 'BRN', 'BTN', 'BWA', 'CAF', 'CAN',\n",
       "       'CEB', 'CHE', 'CHI', 'CHL', 'CHN', 'CIV', 'CMR', 'COD', 'COG',\n",
       "       'COL', 'COM', 'CPV', 'CRI', 'CSS', 'CUB', 'CUW', 'CYM', 'CYP',\n",
       "       'CZE', 'DEU', 'DJI', 'DMA', 'DNK', 'DOM', 'DZA', 'EAP', 'EAR',\n",
       "       'EAS', 'ECA', 'ECS', 'ECU', 'EGY', 'EMU', 'ERI', 'ESP', 'EST',\n",
       "       'ETH', 'EUU', 'FCS', 'FIN', 'FJI', 'FRA', 'FRO', 'FSM', 'GAB',\n",
       "       'GBR', 'GEO', 'GHA', 'GIB', 'GIN', 'GMB', 'GNB', 'GNQ', 'GRC',\n",
       "       'GRD', 'GRL', 'GTM', 'GUM', 'GUY', 'HIC', 'HKG', 'HND', 'HPC',\n",
       "       'HRV', 'HTI', 'HUN', 'IBD', 'IBT', 'IDA', 'IDB', 'IDN', 'IDX',\n",
       "       'IMN', 'IND', 'INX', 'IRL', 'IRN', 'IRQ', 'ISL', 'ISR', 'ITA',\n",
       "       'JAM', 'JOR', 'JPN', 'KAZ', 'KEN', 'KGZ', 'KHM', 'KIR', 'KNA',\n",
       "       'KOR', 'KWT', 'LAC', 'LAO', 'LBN', 'LBR', 'LBY', 'LCA', 'LCN',\n",
       "       'LDC', 'LIC', 'LIE', 'LKA', 'LMC', 'LMY', 'LSO', 'LTE', 'LTU',\n",
       "       'LUX', 'LVA', 'MAC', 'MAF', 'MAR', 'MCO', 'MDA', 'MDG', 'MDV',\n",
       "       'MEA', 'MEX', 'MHL', 'MIC', 'MKD', 'MLI', 'MLT', 'MMR', 'MNA',\n",
       "       'MNE', 'MNG', 'MNP', 'MOZ', 'MRT', 'MUS', 'MWI', 'MYS', 'NAC',\n",
       "       'NAM', 'NCL', 'NER', 'NGA', 'NIC', 'NLD', 'NOR', 'NPL', 'NRU',\n",
       "       'NZL', 'OED', 'OMN', 'OSS', 'PAK', 'PAN', 'PER', 'PHL', 'PLW',\n",
       "       'PNG', 'POL', 'PRE', 'PRI', 'PRK', 'PRT', 'PRY', 'PSE', 'PSS',\n",
       "       'PST', 'PYF', 'QAT', 'ROU', 'RUS', 'RWA', 'SAS', 'SAU', 'SDN',\n",
       "       'SEN', 'SGP', 'SLB', 'SLE', 'SLV', 'SMR', 'SOM', 'SRB', 'SSA',\n",
       "       'SSD', 'SSF', 'SST', 'STP', 'SUR', 'SVK', 'SVN', 'SWE', 'SWZ',\n",
       "       'SXM', 'SYC', 'SYR', 'TCA', 'TCD', 'TEA', 'TEC', 'TGO', 'THA',\n",
       "       'TJK', 'TKM', 'TLA', 'TLS', 'TMN', 'TON', 'TSA', 'TSS', 'TTO',\n",
       "       'TUN', 'TUR', 'TUV', 'TZA', 'UGA', 'UKR', 'UMC', 'URY', 'USA',\n",
       "       'UZB', 'VCT', 'VEN', 'VGB', 'VIR', 'VNM', 'VUT', 'WLD', 'WSM',\n",
       "       'XKX', 'YEM', 'ZAF', 'ZMB', 'ZWE'], dtype=object)"
      ]
     },
     "execution_count": 6,
     "metadata": {},
     "output_type": "execute_result"
    }
   ],
   "source": [
    "# Get the list of countries in the GDP per capita table\n",
    "listOfCountryCode = gdpPerCapitaDF['Code'].unique();\n",
    "listOfCountryCode"
   ]
  },
  {
   "cell_type": "markdown",
   "id": "2d8d878d",
   "metadata": {
    "papermill": {
     "duration": 0.012805,
     "end_time": "2024-03-21T16:39:58.021479",
     "exception": false,
     "start_time": "2024-03-21T16:39:58.008674",
     "status": "completed"
    },
    "tags": []
   },
   "source": [
    "Combine the data from GDP table with CO2 emission table"
   ]
  },
  {
   "cell_type": "code",
   "execution_count": 7,
   "id": "f3502a17",
   "metadata": {
    "execution": {
     "iopub.execute_input": "2024-03-21T16:39:58.049454Z",
     "iopub.status.busy": "2024-03-21T16:39:58.049037Z",
     "iopub.status.idle": "2024-03-21T16:40:36.132851Z",
     "shell.execute_reply": "2024-03-21T16:40:36.131925Z"
    },
    "papermill": {
     "duration": 38.101554,
     "end_time": "2024-03-21T16:40:36.135985",
     "exception": false,
     "start_time": "2024-03-21T16:39:58.034431",
     "status": "completed"
    },
    "tags": []
   },
   "outputs": [],
   "source": [
    "rows = []\n",
    "for country in listOfCountryCode:\n",
    "    for year in range(1960, 2017):\n",
    "        try:\n",
    "            co2Emission = co2EmissionDF[(co2EmissionDF['country_code'] == country) & (co2EmissionDF['year'] == year)]['value'].iloc[0]\n",
    "            row = {\n",
    "                'country_code': country,\n",
    "                'country_name': gdpPerCapitaDF[gdpPerCapitaDF['Code'] == country]['Country Name'].iloc[0],\n",
    "                'year': year,\n",
    "                'gdp_per_cap': gdpPerCapitaDF[gdpPerCapitaDF['Code'] == country][str(year)].iloc[0],\n",
    "                'co2_emission': co2Emission\n",
    "            }\n",
    "            rows.append(row)\n",
    "        except:\n",
    "            row = {\n",
    "                'country_code': country,\n",
    "                'country_name': gdpPerCapitaDF[gdpPerCapitaDF['Code'] == country]['Country Name'].iloc[0],\n",
    "                'year': year,\n",
    "                'gdp_per_cap': gdpPerCapitaDF[gdpPerCapitaDF['Code'] == country][str(year)].iloc[0],\n",
    "                'co2_emission': None\n",
    "            }\n",
    "            rows.append(row)\n",
    "\n",
    "generalDF = pd.DataFrame(rows)"
   ]
  },
  {
   "cell_type": "code",
   "execution_count": 8,
   "id": "e378a6e6",
   "metadata": {
    "execution": {
     "iopub.execute_input": "2024-03-21T16:40:36.166116Z",
     "iopub.status.busy": "2024-03-21T16:40:36.165281Z",
     "iopub.status.idle": "2024-03-21T16:40:36.189197Z",
     "shell.execute_reply": "2024-03-21T16:40:36.187505Z"
    },
    "papermill": {
     "duration": 0.042296,
     "end_time": "2024-03-21T16:40:36.192226",
     "exception": false,
     "start_time": "2024-03-21T16:40:36.149930",
     "status": "completed"
    },
    "tags": []
   },
   "outputs": [
    {
     "data": {
      "text/html": [
       "<div>\n",
       "<style scoped>\n",
       "    .dataframe tbody tr th:only-of-type {\n",
       "        vertical-align: middle;\n",
       "    }\n",
       "\n",
       "    .dataframe tbody tr th {\n",
       "        vertical-align: top;\n",
       "    }\n",
       "\n",
       "    .dataframe thead th {\n",
       "        text-align: right;\n",
       "    }\n",
       "</style>\n",
       "<table border=\"1\" class=\"dataframe\">\n",
       "  <thead>\n",
       "    <tr style=\"text-align: right;\">\n",
       "      <th></th>\n",
       "      <th>country_code</th>\n",
       "      <th>country_name</th>\n",
       "      <th>year</th>\n",
       "      <th>gdp_per_cap</th>\n",
       "      <th>co2_emission</th>\n",
       "    </tr>\n",
       "  </thead>\n",
       "  <tbody>\n",
       "    <tr>\n",
       "      <th>0</th>\n",
       "      <td>ABW</td>\n",
       "      <td>Aruba</td>\n",
       "      <td>1960</td>\n",
       "      <td>NaN</td>\n",
       "      <td>11092.675000</td>\n",
       "    </tr>\n",
       "    <tr>\n",
       "      <th>1</th>\n",
       "      <td>ABW</td>\n",
       "      <td>Aruba</td>\n",
       "      <td>1961</td>\n",
       "      <td>NaN</td>\n",
       "      <td>11576.719000</td>\n",
       "    </tr>\n",
       "    <tr>\n",
       "      <th>2</th>\n",
       "      <td>ABW</td>\n",
       "      <td>Aruba</td>\n",
       "      <td>1962</td>\n",
       "      <td>NaN</td>\n",
       "      <td>12713.489000</td>\n",
       "    </tr>\n",
       "    <tr>\n",
       "      <th>3</th>\n",
       "      <td>ABW</td>\n",
       "      <td>Aruba</td>\n",
       "      <td>1963</td>\n",
       "      <td>NaN</td>\n",
       "      <td>12178.107000</td>\n",
       "    </tr>\n",
       "    <tr>\n",
       "      <th>4</th>\n",
       "      <td>ABW</td>\n",
       "      <td>Aruba</td>\n",
       "      <td>1964</td>\n",
       "      <td>NaN</td>\n",
       "      <td>11840.743000</td>\n",
       "    </tr>\n",
       "    <tr>\n",
       "      <th>...</th>\n",
       "      <td>...</td>\n",
       "      <td>...</td>\n",
       "      <td>...</td>\n",
       "      <td>...</td>\n",
       "      <td>...</td>\n",
       "    </tr>\n",
       "    <tr>\n",
       "      <th>15157</th>\n",
       "      <td>ZWE</td>\n",
       "      <td>Zimbabwe</td>\n",
       "      <td>2012</td>\n",
       "      <td>1304.968011</td>\n",
       "      <td>12010.000229</td>\n",
       "    </tr>\n",
       "    <tr>\n",
       "      <th>15158</th>\n",
       "      <td>ZWE</td>\n",
       "      <td>Zimbabwe</td>\n",
       "      <td>2013</td>\n",
       "      <td>1429.998461</td>\n",
       "      <td>12279.999733</td>\n",
       "    </tr>\n",
       "    <tr>\n",
       "      <th>15159</th>\n",
       "      <td>ZWE</td>\n",
       "      <td>Zimbabwe</td>\n",
       "      <td>2014</td>\n",
       "      <td>1434.896277</td>\n",
       "      <td>12079.999924</td>\n",
       "    </tr>\n",
       "    <tr>\n",
       "      <th>15160</th>\n",
       "      <td>ZWE</td>\n",
       "      <td>Zimbabwe</td>\n",
       "      <td>2015</td>\n",
       "      <td>1445.069702</td>\n",
       "      <td>12430.000305</td>\n",
       "    </tr>\n",
       "    <tr>\n",
       "      <th>15161</th>\n",
       "      <td>ZWE</td>\n",
       "      <td>Zimbabwe</td>\n",
       "      <td>2016</td>\n",
       "      <td>1464.588957</td>\n",
       "      <td>11020.000458</td>\n",
       "    </tr>\n",
       "  </tbody>\n",
       "</table>\n",
       "<p>15162 rows × 5 columns</p>\n",
       "</div>"
      ],
      "text/plain": [
       "      country_code country_name  year  gdp_per_cap  co2_emission\n",
       "0              ABW        Aruba  1960          NaN  11092.675000\n",
       "1              ABW        Aruba  1961          NaN  11576.719000\n",
       "2              ABW        Aruba  1962          NaN  12713.489000\n",
       "3              ABW        Aruba  1963          NaN  12178.107000\n",
       "4              ABW        Aruba  1964          NaN  11840.743000\n",
       "...            ...          ...   ...          ...           ...\n",
       "15157          ZWE     Zimbabwe  2012  1304.968011  12010.000229\n",
       "15158          ZWE     Zimbabwe  2013  1429.998461  12279.999733\n",
       "15159          ZWE     Zimbabwe  2014  1434.896277  12079.999924\n",
       "15160          ZWE     Zimbabwe  2015  1445.069702  12430.000305\n",
       "15161          ZWE     Zimbabwe  2016  1464.588957  11020.000458\n",
       "\n",
       "[15162 rows x 5 columns]"
      ]
     },
     "execution_count": 8,
     "metadata": {},
     "output_type": "execute_result"
    }
   ],
   "source": [
    "generalDF"
   ]
  },
  {
   "cell_type": "code",
   "execution_count": 9,
   "id": "0652346c",
   "metadata": {
    "execution": {
     "iopub.execute_input": "2024-03-21T16:40:36.222423Z",
     "iopub.status.busy": "2024-03-21T16:40:36.221870Z",
     "iopub.status.idle": "2024-03-21T16:40:36.305766Z",
     "shell.execute_reply": "2024-03-21T16:40:36.304824Z"
    },
    "papermill": {
     "duration": 0.102002,
     "end_time": "2024-03-21T16:40:36.308699",
     "exception": false,
     "start_time": "2024-03-21T16:40:36.206697",
     "status": "completed"
    },
    "tags": []
   },
   "outputs": [
    {
     "data": {
      "text/html": [
       "<div>\n",
       "<style scoped>\n",
       "    .dataframe tbody tr th:only-of-type {\n",
       "        vertical-align: middle;\n",
       "    }\n",
       "\n",
       "    .dataframe tbody tr th {\n",
       "        vertical-align: top;\n",
       "    }\n",
       "\n",
       "    .dataframe thead th {\n",
       "        text-align: right;\n",
       "    }\n",
       "</style>\n",
       "<table border=\"1\" class=\"dataframe\">\n",
       "  <thead>\n",
       "    <tr style=\"text-align: right;\">\n",
       "      <th></th>\n",
       "      <th>country</th>\n",
       "      <th>1800</th>\n",
       "      <th>1801</th>\n",
       "      <th>1802</th>\n",
       "      <th>1803</th>\n",
       "      <th>1804</th>\n",
       "      <th>1805</th>\n",
       "      <th>1806</th>\n",
       "      <th>1807</th>\n",
       "      <th>1808</th>\n",
       "      <th>...</th>\n",
       "      <th>2091</th>\n",
       "      <th>2092</th>\n",
       "      <th>2093</th>\n",
       "      <th>2094</th>\n",
       "      <th>2095</th>\n",
       "      <th>2096</th>\n",
       "      <th>2097</th>\n",
       "      <th>2098</th>\n",
       "      <th>2099</th>\n",
       "      <th>2100</th>\n",
       "    </tr>\n",
       "  </thead>\n",
       "  <tbody>\n",
       "    <tr>\n",
       "      <th>0</th>\n",
       "      <td>Afghanistan</td>\n",
       "      <td>3.28M</td>\n",
       "      <td>3.28M</td>\n",
       "      <td>3.28M</td>\n",
       "      <td>3.28M</td>\n",
       "      <td>3.28M</td>\n",
       "      <td>3.28M</td>\n",
       "      <td>3.28M</td>\n",
       "      <td>3.28M</td>\n",
       "      <td>3.28M</td>\n",
       "      <td>...</td>\n",
       "      <td>108M</td>\n",
       "      <td>108M</td>\n",
       "      <td>109M</td>\n",
       "      <td>109M</td>\n",
       "      <td>109M</td>\n",
       "      <td>110M</td>\n",
       "      <td>110M</td>\n",
       "      <td>110M</td>\n",
       "      <td>111M</td>\n",
       "      <td>111M</td>\n",
       "    </tr>\n",
       "    <tr>\n",
       "      <th>1</th>\n",
       "      <td>Angola</td>\n",
       "      <td>1.57M</td>\n",
       "      <td>1.57M</td>\n",
       "      <td>1.57M</td>\n",
       "      <td>1.57M</td>\n",
       "      <td>1.57M</td>\n",
       "      <td>1.57M</td>\n",
       "      <td>1.57M</td>\n",
       "      <td>1.57M</td>\n",
       "      <td>1.57M</td>\n",
       "      <td>...</td>\n",
       "      <td>125M</td>\n",
       "      <td>126M</td>\n",
       "      <td>127M</td>\n",
       "      <td>128M</td>\n",
       "      <td>129M</td>\n",
       "      <td>130M</td>\n",
       "      <td>131M</td>\n",
       "      <td>131M</td>\n",
       "      <td>132M</td>\n",
       "      <td>133M</td>\n",
       "    </tr>\n",
       "    <tr>\n",
       "      <th>2</th>\n",
       "      <td>Albania</td>\n",
       "      <td>400k</td>\n",
       "      <td>402k</td>\n",
       "      <td>404k</td>\n",
       "      <td>405k</td>\n",
       "      <td>407k</td>\n",
       "      <td>409k</td>\n",
       "      <td>411k</td>\n",
       "      <td>413k</td>\n",
       "      <td>414k</td>\n",
       "      <td>...</td>\n",
       "      <td>1.35M</td>\n",
       "      <td>1.32M</td>\n",
       "      <td>1.29M</td>\n",
       "      <td>1.26M</td>\n",
       "      <td>1.23M</td>\n",
       "      <td>1.21M</td>\n",
       "      <td>1.18M</td>\n",
       "      <td>1.15M</td>\n",
       "      <td>1.12M</td>\n",
       "      <td>1.1M</td>\n",
       "    </tr>\n",
       "    <tr>\n",
       "      <th>3</th>\n",
       "      <td>Andorra</td>\n",
       "      <td>2650</td>\n",
       "      <td>2650</td>\n",
       "      <td>2650</td>\n",
       "      <td>2650</td>\n",
       "      <td>2650</td>\n",
       "      <td>2650</td>\n",
       "      <td>2650</td>\n",
       "      <td>2650</td>\n",
       "      <td>2650</td>\n",
       "      <td>...</td>\n",
       "      <td>62.5k</td>\n",
       "      <td>62.2k</td>\n",
       "      <td>61.9k</td>\n",
       "      <td>61.7k</td>\n",
       "      <td>61.4k</td>\n",
       "      <td>61.2k</td>\n",
       "      <td>60.9k</td>\n",
       "      <td>60.7k</td>\n",
       "      <td>60.5k</td>\n",
       "      <td>60.2k</td>\n",
       "    </tr>\n",
       "    <tr>\n",
       "      <th>4</th>\n",
       "      <td>UAE</td>\n",
       "      <td>40.2k</td>\n",
       "      <td>40.2k</td>\n",
       "      <td>40.2k</td>\n",
       "      <td>40.2k</td>\n",
       "      <td>40.2k</td>\n",
       "      <td>40.2k</td>\n",
       "      <td>40.2k</td>\n",
       "      <td>40.2k</td>\n",
       "      <td>40.2k</td>\n",
       "      <td>...</td>\n",
       "      <td>13.5M</td>\n",
       "      <td>13.5M</td>\n",
       "      <td>13.6M</td>\n",
       "      <td>13.7M</td>\n",
       "      <td>13.8M</td>\n",
       "      <td>13.8M</td>\n",
       "      <td>13.9M</td>\n",
       "      <td>14M</td>\n",
       "      <td>14M</td>\n",
       "      <td>14.1M</td>\n",
       "    </tr>\n",
       "    <tr>\n",
       "      <th>...</th>\n",
       "      <td>...</td>\n",
       "      <td>...</td>\n",
       "      <td>...</td>\n",
       "      <td>...</td>\n",
       "      <td>...</td>\n",
       "      <td>...</td>\n",
       "      <td>...</td>\n",
       "      <td>...</td>\n",
       "      <td>...</td>\n",
       "      <td>...</td>\n",
       "      <td>...</td>\n",
       "      <td>...</td>\n",
       "      <td>...</td>\n",
       "      <td>...</td>\n",
       "      <td>...</td>\n",
       "      <td>...</td>\n",
       "      <td>...</td>\n",
       "      <td>...</td>\n",
       "      <td>...</td>\n",
       "      <td>...</td>\n",
       "      <td>...</td>\n",
       "    </tr>\n",
       "    <tr>\n",
       "      <th>192</th>\n",
       "      <td>Samoa</td>\n",
       "      <td>47.3k</td>\n",
       "      <td>47.3k</td>\n",
       "      <td>47.3k</td>\n",
       "      <td>47.3k</td>\n",
       "      <td>47.3k</td>\n",
       "      <td>47.3k</td>\n",
       "      <td>47.3k</td>\n",
       "      <td>47.2k</td>\n",
       "      <td>47.2k</td>\n",
       "      <td>...</td>\n",
       "      <td>432k</td>\n",
       "      <td>434k</td>\n",
       "      <td>435k</td>\n",
       "      <td>436k</td>\n",
       "      <td>437k</td>\n",
       "      <td>438k</td>\n",
       "      <td>439k</td>\n",
       "      <td>440k</td>\n",
       "      <td>441k</td>\n",
       "      <td>441k</td>\n",
       "    </tr>\n",
       "    <tr>\n",
       "      <th>193</th>\n",
       "      <td>Yemen</td>\n",
       "      <td>2.59M</td>\n",
       "      <td>2.59M</td>\n",
       "      <td>2.59M</td>\n",
       "      <td>2.59M</td>\n",
       "      <td>2.59M</td>\n",
       "      <td>2.59M</td>\n",
       "      <td>2.59M</td>\n",
       "      <td>2.59M</td>\n",
       "      <td>2.59M</td>\n",
       "      <td>...</td>\n",
       "      <td>73.2M</td>\n",
       "      <td>73.3M</td>\n",
       "      <td>73.5M</td>\n",
       "      <td>73.6M</td>\n",
       "      <td>73.7M</td>\n",
       "      <td>73.8M</td>\n",
       "      <td>73.9M</td>\n",
       "      <td>74M</td>\n",
       "      <td>74.1M</td>\n",
       "      <td>74.2M</td>\n",
       "    </tr>\n",
       "    <tr>\n",
       "      <th>194</th>\n",
       "      <td>South Africa</td>\n",
       "      <td>1.45M</td>\n",
       "      <td>1.45M</td>\n",
       "      <td>1.46M</td>\n",
       "      <td>1.46M</td>\n",
       "      <td>1.47M</td>\n",
       "      <td>1.47M</td>\n",
       "      <td>1.48M</td>\n",
       "      <td>1.49M</td>\n",
       "      <td>1.49M</td>\n",
       "      <td>...</td>\n",
       "      <td>75.6M</td>\n",
       "      <td>75.5M</td>\n",
       "      <td>75.4M</td>\n",
       "      <td>75.3M</td>\n",
       "      <td>75.2M</td>\n",
       "      <td>75.1M</td>\n",
       "      <td>75M</td>\n",
       "      <td>74.8M</td>\n",
       "      <td>74.7M</td>\n",
       "      <td>74.6M</td>\n",
       "    </tr>\n",
       "    <tr>\n",
       "      <th>195</th>\n",
       "      <td>Zambia</td>\n",
       "      <td>747k</td>\n",
       "      <td>758k</td>\n",
       "      <td>770k</td>\n",
       "      <td>782k</td>\n",
       "      <td>794k</td>\n",
       "      <td>806k</td>\n",
       "      <td>818k</td>\n",
       "      <td>831k</td>\n",
       "      <td>843k</td>\n",
       "      <td>...</td>\n",
       "      <td>60.3M</td>\n",
       "      <td>60.7M</td>\n",
       "      <td>61.1M</td>\n",
       "      <td>61.5M</td>\n",
       "      <td>61.9M</td>\n",
       "      <td>62.2M</td>\n",
       "      <td>62.6M</td>\n",
       "      <td>62.9M</td>\n",
       "      <td>63.3M</td>\n",
       "      <td>63.6M</td>\n",
       "    </tr>\n",
       "    <tr>\n",
       "      <th>196</th>\n",
       "      <td>Zimbabwe</td>\n",
       "      <td>1.09M</td>\n",
       "      <td>1.09M</td>\n",
       "      <td>1.09M</td>\n",
       "      <td>1.09M</td>\n",
       "      <td>1.09M</td>\n",
       "      <td>1.09M</td>\n",
       "      <td>1.09M</td>\n",
       "      <td>1.09M</td>\n",
       "      <td>1.09M</td>\n",
       "      <td>...</td>\n",
       "      <td>35.1M</td>\n",
       "      <td>35.2M</td>\n",
       "      <td>35.3M</td>\n",
       "      <td>35.4M</td>\n",
       "      <td>35.4M</td>\n",
       "      <td>35.5M</td>\n",
       "      <td>35.5M</td>\n",
       "      <td>35.6M</td>\n",
       "      <td>35.6M</td>\n",
       "      <td>35.6M</td>\n",
       "    </tr>\n",
       "  </tbody>\n",
       "</table>\n",
       "<p>197 rows × 302 columns</p>\n",
       "</div>"
      ],
      "text/plain": [
       "          country   1800   1801   1802   1803   1804   1805   1806   1807  \\\n",
       "0     Afghanistan  3.28M  3.28M  3.28M  3.28M  3.28M  3.28M  3.28M  3.28M   \n",
       "1          Angola  1.57M  1.57M  1.57M  1.57M  1.57M  1.57M  1.57M  1.57M   \n",
       "2         Albania   400k   402k   404k   405k   407k   409k   411k   413k   \n",
       "3         Andorra   2650   2650   2650   2650   2650   2650   2650   2650   \n",
       "4             UAE  40.2k  40.2k  40.2k  40.2k  40.2k  40.2k  40.2k  40.2k   \n",
       "..            ...    ...    ...    ...    ...    ...    ...    ...    ...   \n",
       "192         Samoa  47.3k  47.3k  47.3k  47.3k  47.3k  47.3k  47.3k  47.2k   \n",
       "193         Yemen  2.59M  2.59M  2.59M  2.59M  2.59M  2.59M  2.59M  2.59M   \n",
       "194  South Africa  1.45M  1.45M  1.46M  1.46M  1.47M  1.47M  1.48M  1.49M   \n",
       "195        Zambia   747k   758k   770k   782k   794k   806k   818k   831k   \n",
       "196      Zimbabwe  1.09M  1.09M  1.09M  1.09M  1.09M  1.09M  1.09M  1.09M   \n",
       "\n",
       "      1808  ...   2091   2092   2093   2094   2095   2096   2097   2098  \\\n",
       "0    3.28M  ...   108M   108M   109M   109M   109M   110M   110M   110M   \n",
       "1    1.57M  ...   125M   126M   127M   128M   129M   130M   131M   131M   \n",
       "2     414k  ...  1.35M  1.32M  1.29M  1.26M  1.23M  1.21M  1.18M  1.15M   \n",
       "3     2650  ...  62.5k  62.2k  61.9k  61.7k  61.4k  61.2k  60.9k  60.7k   \n",
       "4    40.2k  ...  13.5M  13.5M  13.6M  13.7M  13.8M  13.8M  13.9M    14M   \n",
       "..     ...  ...    ...    ...    ...    ...    ...    ...    ...    ...   \n",
       "192  47.2k  ...   432k   434k   435k   436k   437k   438k   439k   440k   \n",
       "193  2.59M  ...  73.2M  73.3M  73.5M  73.6M  73.7M  73.8M  73.9M    74M   \n",
       "194  1.49M  ...  75.6M  75.5M  75.4M  75.3M  75.2M  75.1M    75M  74.8M   \n",
       "195   843k  ...  60.3M  60.7M  61.1M  61.5M  61.9M  62.2M  62.6M  62.9M   \n",
       "196  1.09M  ...  35.1M  35.2M  35.3M  35.4M  35.4M  35.5M  35.5M  35.6M   \n",
       "\n",
       "      2099   2100  \n",
       "0     111M   111M  \n",
       "1     132M   133M  \n",
       "2    1.12M   1.1M  \n",
       "3    60.5k  60.2k  \n",
       "4      14M  14.1M  \n",
       "..     ...    ...  \n",
       "192   441k   441k  \n",
       "193  74.1M  74.2M  \n",
       "194  74.7M  74.6M  \n",
       "195  63.3M  63.6M  \n",
       "196  35.6M  35.6M  \n",
       "\n",
       "[197 rows x 302 columns]"
      ]
     },
     "execution_count": 9,
     "metadata": {},
     "output_type": "execute_result"
    }
   ],
   "source": [
    "# Get the population table\n",
    "popDF = pd.read_csv('/kaggle/input/world-population/pop.csv')\n",
    "popDF"
   ]
  },
  {
   "cell_type": "markdown",
   "id": "bb9fda4a",
   "metadata": {
    "papermill": {
     "duration": 0.013573,
     "end_time": "2024-03-21T16:40:36.338856",
     "exception": false,
     "start_time": "2024-03-21T16:40:36.325283",
     "status": "completed"
    },
    "tags": []
   },
   "source": [
    "**Convert country name into country code**"
   ]
  },
  {
   "cell_type": "code",
   "execution_count": 10,
   "id": "c2d808af",
   "metadata": {
    "execution": {
     "iopub.execute_input": "2024-03-21T16:40:36.371091Z",
     "iopub.status.busy": "2024-03-21T16:40:36.370629Z",
     "iopub.status.idle": "2024-03-21T16:40:36.492295Z",
     "shell.execute_reply": "2024-03-21T16:40:36.490871Z"
    },
    "papermill": {
     "duration": 0.14175,
     "end_time": "2024-03-21T16:40:36.494841",
     "exception": false,
     "start_time": "2024-03-21T16:40:36.353091",
     "status": "completed"
    },
    "tags": []
   },
   "outputs": [],
   "source": [
    "countryNames = {}\n",
    "for country in listOfCountryCode:\n",
    "    countryNames[gdpPerCapitaDF[gdpPerCapitaDF['Code'] == country]['Country Name'].iloc[0]] = country"
   ]
  },
  {
   "cell_type": "code",
   "execution_count": 11,
   "id": "f6f1c4c8",
   "metadata": {
    "execution": {
     "iopub.execute_input": "2024-03-21T16:40:36.526596Z",
     "iopub.status.busy": "2024-03-21T16:40:36.526186Z",
     "iopub.status.idle": "2024-03-21T16:40:36.537110Z",
     "shell.execute_reply": "2024-03-21T16:40:36.535921Z"
    },
    "papermill": {
     "duration": 0.02955,
     "end_time": "2024-03-21T16:40:36.539869",
     "exception": false,
     "start_time": "2024-03-21T16:40:36.510319",
     "status": "completed"
    },
    "tags": []
   },
   "outputs": [],
   "source": [
    "popDF['country_code'] = popDF.apply(lambda row: countryNames.get(row['country'], 'Not found'), axis = 1)"
   ]
  },
  {
   "cell_type": "markdown",
   "id": "03aeef72",
   "metadata": {
    "papermill": {
     "duration": 0.018864,
     "end_time": "2024-03-21T16:40:36.574671",
     "exception": false,
     "start_time": "2024-03-21T16:40:36.555807",
     "status": "completed"
    },
    "tags": []
   },
   "source": [
    "**Get countries which couldn't be converted automatically**"
   ]
  },
  {
   "cell_type": "code",
   "execution_count": 12,
   "id": "23190e45",
   "metadata": {
    "execution": {
     "iopub.execute_input": "2024-03-21T16:40:36.613318Z",
     "iopub.status.busy": "2024-03-21T16:40:36.612685Z",
     "iopub.status.idle": "2024-03-21T16:40:36.627517Z",
     "shell.execute_reply": "2024-03-21T16:40:36.626406Z"
    },
    "papermill": {
     "duration": 0.034358,
     "end_time": "2024-03-21T16:40:36.630969",
     "exception": false,
     "start_time": "2024-03-21T16:40:36.596611",
     "status": "completed"
    },
    "tags": []
   },
   "outputs": [
    {
     "data": {
      "text/plain": [
       "array(['UAE', 'Bahamas', 'Brunei', 'Cape Verde', 'Egypt', 'UK', 'Gambia',\n",
       "       'Hong Kong, China', 'Holy See', 'Iran', 'South Korea', 'Lao',\n",
       "       'North Korea', 'Palestine', 'Russia', 'Syria', 'Taiwan', 'USA',\n",
       "       'Venezuela', 'Yemen'], dtype=object)"
      ]
     },
     "execution_count": 12,
     "metadata": {},
     "output_type": "execute_result"
    }
   ],
   "source": [
    "missingCode = popDF[popDF['country_code'] == 'Not found']['country'].values\n",
    "missingCode"
   ]
  },
  {
   "cell_type": "code",
   "execution_count": 13,
   "id": "a20008a2",
   "metadata": {
    "execution": {
     "iopub.execute_input": "2024-03-21T16:40:36.665101Z",
     "iopub.status.busy": "2024-03-21T16:40:36.664628Z",
     "iopub.status.idle": "2024-03-21T16:40:36.682718Z",
     "shell.execute_reply": "2024-03-21T16:40:36.681432Z"
    },
    "papermill": {
     "duration": 0.039119,
     "end_time": "2024-03-21T16:40:36.684941",
     "exception": false,
     "start_time": "2024-03-21T16:40:36.645822",
     "status": "completed"
    },
    "tags": []
   },
   "outputs": [],
   "source": [
    "# Add the country code manually\n",
    "codeForMissingOne = ['ARE', 'BHS', 'BRN', 'CPV', 'EGY', 'GBR', 'GMB', 'HKG',\n",
    "                    'VAT', 'IRN', 'KOR', 'LAO', 'PRK', 'PSE', 'RUS', 'SYR',\n",
    "                    'TWN', 'USA', 'VEN', 'YEM']\n",
    "\n",
    "for i in range(len(missingCode)):\n",
    "    popDF.loc[popDF['country'] == missingCode[i], 'country_code'] = codeForMissingOne[i]\n"
   ]
  },
  {
   "cell_type": "code",
   "execution_count": 14,
   "id": "d0ebbf1c",
   "metadata": {
    "execution": {
     "iopub.execute_input": "2024-03-21T16:40:36.716732Z",
     "iopub.status.busy": "2024-03-21T16:40:36.715809Z",
     "iopub.status.idle": "2024-03-21T16:40:47.364409Z",
     "shell.execute_reply": "2024-03-21T16:40:47.363491Z"
    },
    "papermill": {
     "duration": 10.667416,
     "end_time": "2024-03-21T16:40:47.367018",
     "exception": false,
     "start_time": "2024-03-21T16:40:36.699602",
     "status": "completed"
    },
    "tags": []
   },
   "outputs": [],
   "source": [
    "generalDF['pop'] = generalDF.apply(lambda row: popDF[(popDF['country_code'] == row['country_code'])][str(row['year'])].iloc[0] if not popDF[(popDF['country_code'] == row['country_code'])][str(row['year'])].empty else None, axis=1)"
   ]
  },
  {
   "cell_type": "code",
   "execution_count": 15,
   "id": "49a0547d",
   "metadata": {
    "execution": {
     "iopub.execute_input": "2024-03-21T16:40:47.397248Z",
     "iopub.status.busy": "2024-03-21T16:40:47.396366Z",
     "iopub.status.idle": "2024-03-21T16:40:47.410255Z",
     "shell.execute_reply": "2024-03-21T16:40:47.409412Z"
    },
    "papermill": {
     "duration": 0.031377,
     "end_time": "2024-03-21T16:40:47.412482",
     "exception": false,
     "start_time": "2024-03-21T16:40:47.381105",
     "status": "completed"
    },
    "tags": []
   },
   "outputs": [
    {
     "data": {
      "text/html": [
       "<div>\n",
       "<style scoped>\n",
       "    .dataframe tbody tr th:only-of-type {\n",
       "        vertical-align: middle;\n",
       "    }\n",
       "\n",
       "    .dataframe tbody tr th {\n",
       "        vertical-align: top;\n",
       "    }\n",
       "\n",
       "    .dataframe thead th {\n",
       "        text-align: right;\n",
       "    }\n",
       "</style>\n",
       "<table border=\"1\" class=\"dataframe\">\n",
       "  <thead>\n",
       "    <tr style=\"text-align: right;\">\n",
       "      <th></th>\n",
       "      <th>country_code</th>\n",
       "      <th>country_name</th>\n",
       "      <th>year</th>\n",
       "      <th>gdp_per_cap</th>\n",
       "      <th>co2_emission</th>\n",
       "      <th>pop</th>\n",
       "    </tr>\n",
       "  </thead>\n",
       "  <tbody>\n",
       "    <tr>\n",
       "      <th>0</th>\n",
       "      <td>ABW</td>\n",
       "      <td>Aruba</td>\n",
       "      <td>1960</td>\n",
       "      <td>NaN</td>\n",
       "      <td>11092.675000</td>\n",
       "      <td>None</td>\n",
       "    </tr>\n",
       "    <tr>\n",
       "      <th>1</th>\n",
       "      <td>ABW</td>\n",
       "      <td>Aruba</td>\n",
       "      <td>1961</td>\n",
       "      <td>NaN</td>\n",
       "      <td>11576.719000</td>\n",
       "      <td>None</td>\n",
       "    </tr>\n",
       "    <tr>\n",
       "      <th>2</th>\n",
       "      <td>ABW</td>\n",
       "      <td>Aruba</td>\n",
       "      <td>1962</td>\n",
       "      <td>NaN</td>\n",
       "      <td>12713.489000</td>\n",
       "      <td>None</td>\n",
       "    </tr>\n",
       "    <tr>\n",
       "      <th>3</th>\n",
       "      <td>ABW</td>\n",
       "      <td>Aruba</td>\n",
       "      <td>1963</td>\n",
       "      <td>NaN</td>\n",
       "      <td>12178.107000</td>\n",
       "      <td>None</td>\n",
       "    </tr>\n",
       "    <tr>\n",
       "      <th>4</th>\n",
       "      <td>ABW</td>\n",
       "      <td>Aruba</td>\n",
       "      <td>1964</td>\n",
       "      <td>NaN</td>\n",
       "      <td>11840.743000</td>\n",
       "      <td>None</td>\n",
       "    </tr>\n",
       "    <tr>\n",
       "      <th>...</th>\n",
       "      <td>...</td>\n",
       "      <td>...</td>\n",
       "      <td>...</td>\n",
       "      <td>...</td>\n",
       "      <td>...</td>\n",
       "      <td>...</td>\n",
       "    </tr>\n",
       "    <tr>\n",
       "      <th>15157</th>\n",
       "      <td>ZWE</td>\n",
       "      <td>Zimbabwe</td>\n",
       "      <td>2012</td>\n",
       "      <td>1304.968011</td>\n",
       "      <td>12010.000229</td>\n",
       "      <td>13.3M</td>\n",
       "    </tr>\n",
       "    <tr>\n",
       "      <th>15158</th>\n",
       "      <td>ZWE</td>\n",
       "      <td>Zimbabwe</td>\n",
       "      <td>2013</td>\n",
       "      <td>1429.998461</td>\n",
       "      <td>12279.999733</td>\n",
       "      <td>13.6M</td>\n",
       "    </tr>\n",
       "    <tr>\n",
       "      <th>15159</th>\n",
       "      <td>ZWE</td>\n",
       "      <td>Zimbabwe</td>\n",
       "      <td>2014</td>\n",
       "      <td>1434.896277</td>\n",
       "      <td>12079.999924</td>\n",
       "      <td>13.9M</td>\n",
       "    </tr>\n",
       "    <tr>\n",
       "      <th>15160</th>\n",
       "      <td>ZWE</td>\n",
       "      <td>Zimbabwe</td>\n",
       "      <td>2015</td>\n",
       "      <td>1445.069702</td>\n",
       "      <td>12430.000305</td>\n",
       "      <td>14.2M</td>\n",
       "    </tr>\n",
       "    <tr>\n",
       "      <th>15161</th>\n",
       "      <td>ZWE</td>\n",
       "      <td>Zimbabwe</td>\n",
       "      <td>2016</td>\n",
       "      <td>1464.588957</td>\n",
       "      <td>11020.000458</td>\n",
       "      <td>14.5M</td>\n",
       "    </tr>\n",
       "  </tbody>\n",
       "</table>\n",
       "<p>15162 rows × 6 columns</p>\n",
       "</div>"
      ],
      "text/plain": [
       "      country_code country_name  year  gdp_per_cap  co2_emission    pop\n",
       "0              ABW        Aruba  1960          NaN  11092.675000   None\n",
       "1              ABW        Aruba  1961          NaN  11576.719000   None\n",
       "2              ABW        Aruba  1962          NaN  12713.489000   None\n",
       "3              ABW        Aruba  1963          NaN  12178.107000   None\n",
       "4              ABW        Aruba  1964          NaN  11840.743000   None\n",
       "...            ...          ...   ...          ...           ...    ...\n",
       "15157          ZWE     Zimbabwe  2012  1304.968011  12010.000229  13.3M\n",
       "15158          ZWE     Zimbabwe  2013  1429.998461  12279.999733  13.6M\n",
       "15159          ZWE     Zimbabwe  2014  1434.896277  12079.999924  13.9M\n",
       "15160          ZWE     Zimbabwe  2015  1445.069702  12430.000305  14.2M\n",
       "15161          ZWE     Zimbabwe  2016  1464.588957  11020.000458  14.5M\n",
       "\n",
       "[15162 rows x 6 columns]"
      ]
     },
     "execution_count": 15,
     "metadata": {},
     "output_type": "execute_result"
    }
   ],
   "source": [
    "generalDF"
   ]
  },
  {
   "cell_type": "markdown",
   "id": "29778ac6",
   "metadata": {
    "papermill": {
     "duration": 0.014002,
     "end_time": "2024-03-21T16:40:47.440690",
     "exception": false,
     "start_time": "2024-03-21T16:40:47.426688",
     "status": "completed"
    },
    "tags": []
   },
   "source": [
    "**Try to convert population in form M(millions), k(thousands), B(billions) in to numberic value**"
   ]
  },
  {
   "cell_type": "code",
   "execution_count": 16,
   "id": "71bfe552",
   "metadata": {
    "execution": {
     "iopub.execute_input": "2024-03-21T16:40:47.554513Z",
     "iopub.status.busy": "2024-03-21T16:40:47.553471Z",
     "iopub.status.idle": "2024-03-21T16:40:47.561071Z",
     "shell.execute_reply": "2024-03-21T16:40:47.559798Z"
    },
    "papermill": {
     "duration": 0.108142,
     "end_time": "2024-03-21T16:40:47.563780",
     "exception": false,
     "start_time": "2024-03-21T16:40:47.455638",
     "status": "completed"
    },
    "tags": []
   },
   "outputs": [
    {
     "name": "stdout",
     "output_type": "stream",
     "text": [
      "3280000.0\n"
     ]
    }
   ],
   "source": [
    "def convert_to_numeric(string):\n",
    "    try:\n",
    "        suffixes = {'k': 1e3, 'M': 1e6, 'B': 1e9}\n",
    "        if string[-1] in suffixes:\n",
    "            return float(string[:-1]) * suffixes[string[-1]]\n",
    "        else:\n",
    "            return float(string)\n",
    "    except:\n",
    "        return None\n",
    "\n",
    "print(convert_to_numeric('3.28M'))"
   ]
  },
  {
   "cell_type": "code",
   "execution_count": 17,
   "id": "e1df3263",
   "metadata": {
    "execution": {
     "iopub.execute_input": "2024-03-21T16:40:47.595233Z",
     "iopub.status.busy": "2024-03-21T16:40:47.594767Z",
     "iopub.status.idle": "2024-03-21T16:40:47.614703Z",
     "shell.execute_reply": "2024-03-21T16:40:47.613404Z"
    },
    "papermill": {
     "duration": 0.038778,
     "end_time": "2024-03-21T16:40:47.617297",
     "exception": false,
     "start_time": "2024-03-21T16:40:47.578519",
     "status": "completed"
    },
    "tags": []
   },
   "outputs": [],
   "source": [
    "generalDF['pop'] = generalDF['pop'].apply(lambda pop: convert_to_numeric(pop))"
   ]
  },
  {
   "cell_type": "code",
   "execution_count": 18,
   "id": "5354094e",
   "metadata": {
    "execution": {
     "iopub.execute_input": "2024-03-21T16:40:47.649089Z",
     "iopub.status.busy": "2024-03-21T16:40:47.648624Z",
     "iopub.status.idle": "2024-03-21T16:40:47.663673Z",
     "shell.execute_reply": "2024-03-21T16:40:47.662552Z"
    },
    "papermill": {
     "duration": 0.034159,
     "end_time": "2024-03-21T16:40:47.666391",
     "exception": false,
     "start_time": "2024-03-21T16:40:47.632232",
     "status": "completed"
    },
    "tags": []
   },
   "outputs": [
    {
     "data": {
      "text/html": [
       "<div>\n",
       "<style scoped>\n",
       "    .dataframe tbody tr th:only-of-type {\n",
       "        vertical-align: middle;\n",
       "    }\n",
       "\n",
       "    .dataframe tbody tr th {\n",
       "        vertical-align: top;\n",
       "    }\n",
       "\n",
       "    .dataframe thead th {\n",
       "        text-align: right;\n",
       "    }\n",
       "</style>\n",
       "<table border=\"1\" class=\"dataframe\">\n",
       "  <thead>\n",
       "    <tr style=\"text-align: right;\">\n",
       "      <th></th>\n",
       "      <th>country_code</th>\n",
       "      <th>country_name</th>\n",
       "      <th>year</th>\n",
       "      <th>gdp_per_cap</th>\n",
       "      <th>co2_emission</th>\n",
       "      <th>pop</th>\n",
       "    </tr>\n",
       "  </thead>\n",
       "  <tbody>\n",
       "    <tr>\n",
       "      <th>0</th>\n",
       "      <td>ABW</td>\n",
       "      <td>Aruba</td>\n",
       "      <td>1960</td>\n",
       "      <td>NaN</td>\n",
       "      <td>11092.675000</td>\n",
       "      <td>NaN</td>\n",
       "    </tr>\n",
       "    <tr>\n",
       "      <th>1</th>\n",
       "      <td>ABW</td>\n",
       "      <td>Aruba</td>\n",
       "      <td>1961</td>\n",
       "      <td>NaN</td>\n",
       "      <td>11576.719000</td>\n",
       "      <td>NaN</td>\n",
       "    </tr>\n",
       "    <tr>\n",
       "      <th>2</th>\n",
       "      <td>ABW</td>\n",
       "      <td>Aruba</td>\n",
       "      <td>1962</td>\n",
       "      <td>NaN</td>\n",
       "      <td>12713.489000</td>\n",
       "      <td>NaN</td>\n",
       "    </tr>\n",
       "    <tr>\n",
       "      <th>3</th>\n",
       "      <td>ABW</td>\n",
       "      <td>Aruba</td>\n",
       "      <td>1963</td>\n",
       "      <td>NaN</td>\n",
       "      <td>12178.107000</td>\n",
       "      <td>NaN</td>\n",
       "    </tr>\n",
       "    <tr>\n",
       "      <th>4</th>\n",
       "      <td>ABW</td>\n",
       "      <td>Aruba</td>\n",
       "      <td>1964</td>\n",
       "      <td>NaN</td>\n",
       "      <td>11840.743000</td>\n",
       "      <td>NaN</td>\n",
       "    </tr>\n",
       "    <tr>\n",
       "      <th>...</th>\n",
       "      <td>...</td>\n",
       "      <td>...</td>\n",
       "      <td>...</td>\n",
       "      <td>...</td>\n",
       "      <td>...</td>\n",
       "      <td>...</td>\n",
       "    </tr>\n",
       "    <tr>\n",
       "      <th>15157</th>\n",
       "      <td>ZWE</td>\n",
       "      <td>Zimbabwe</td>\n",
       "      <td>2012</td>\n",
       "      <td>1304.968011</td>\n",
       "      <td>12010.000229</td>\n",
       "      <td>13300000.0</td>\n",
       "    </tr>\n",
       "    <tr>\n",
       "      <th>15158</th>\n",
       "      <td>ZWE</td>\n",
       "      <td>Zimbabwe</td>\n",
       "      <td>2013</td>\n",
       "      <td>1429.998461</td>\n",
       "      <td>12279.999733</td>\n",
       "      <td>13600000.0</td>\n",
       "    </tr>\n",
       "    <tr>\n",
       "      <th>15159</th>\n",
       "      <td>ZWE</td>\n",
       "      <td>Zimbabwe</td>\n",
       "      <td>2014</td>\n",
       "      <td>1434.896277</td>\n",
       "      <td>12079.999924</td>\n",
       "      <td>13900000.0</td>\n",
       "    </tr>\n",
       "    <tr>\n",
       "      <th>15160</th>\n",
       "      <td>ZWE</td>\n",
       "      <td>Zimbabwe</td>\n",
       "      <td>2015</td>\n",
       "      <td>1445.069702</td>\n",
       "      <td>12430.000305</td>\n",
       "      <td>14200000.0</td>\n",
       "    </tr>\n",
       "    <tr>\n",
       "      <th>15161</th>\n",
       "      <td>ZWE</td>\n",
       "      <td>Zimbabwe</td>\n",
       "      <td>2016</td>\n",
       "      <td>1464.588957</td>\n",
       "      <td>11020.000458</td>\n",
       "      <td>14500000.0</td>\n",
       "    </tr>\n",
       "  </tbody>\n",
       "</table>\n",
       "<p>15162 rows × 6 columns</p>\n",
       "</div>"
      ],
      "text/plain": [
       "      country_code country_name  year  gdp_per_cap  co2_emission         pop\n",
       "0              ABW        Aruba  1960          NaN  11092.675000         NaN\n",
       "1              ABW        Aruba  1961          NaN  11576.719000         NaN\n",
       "2              ABW        Aruba  1962          NaN  12713.489000         NaN\n",
       "3              ABW        Aruba  1963          NaN  12178.107000         NaN\n",
       "4              ABW        Aruba  1964          NaN  11840.743000         NaN\n",
       "...            ...          ...   ...          ...           ...         ...\n",
       "15157          ZWE     Zimbabwe  2012  1304.968011  12010.000229  13300000.0\n",
       "15158          ZWE     Zimbabwe  2013  1429.998461  12279.999733  13600000.0\n",
       "15159          ZWE     Zimbabwe  2014  1434.896277  12079.999924  13900000.0\n",
       "15160          ZWE     Zimbabwe  2015  1445.069702  12430.000305  14200000.0\n",
       "15161          ZWE     Zimbabwe  2016  1464.588957  11020.000458  14500000.0\n",
       "\n",
       "[15162 rows x 6 columns]"
      ]
     },
     "execution_count": 18,
     "metadata": {},
     "output_type": "execute_result"
    }
   ],
   "source": [
    "generalDF"
   ]
  },
  {
   "cell_type": "markdown",
   "id": "9cf6dc1e",
   "metadata": {
    "papermill": {
     "duration": 0.014649,
     "end_time": "2024-03-21T16:40:47.695984",
     "exception": false,
     "start_time": "2024-03-21T16:40:47.681335",
     "status": "completed"
    },
    "tags": []
   },
   "source": [
    "**Because there is only a few countries in the world where it has birth restriction policies, I added them manually**"
   ]
  },
  {
   "cell_type": "code",
   "execution_count": 19,
   "id": "3aaf76ad",
   "metadata": {
    "execution": {
     "iopub.execute_input": "2024-03-21T16:40:47.728074Z",
     "iopub.status.busy": "2024-03-21T16:40:47.727328Z",
     "iopub.status.idle": "2024-03-21T16:40:47.734240Z",
     "shell.execute_reply": "2024-03-21T16:40:47.733205Z"
    },
    "papermill": {
     "duration": 0.026174,
     "end_time": "2024-03-21T16:40:47.736906",
     "exception": false,
     "start_time": "2024-03-21T16:40:47.710732",
     "status": "completed"
    },
    "tags": []
   },
   "outputs": [],
   "source": [
    "childRestrictionPolicy = {\n",
    "    'EGY': {\n",
    "        'from': 2017,\n",
    "        'to': 100000,\n",
    "        'limit': 2\n",
    "    },\n",
    "    'CHN': {\n",
    "        'from': 1979,\n",
    "        'to': 2015,\n",
    "        'limit': 1\n",
    "    },\n",
    "    'IRN': {\n",
    "        'from': 1990,\n",
    "        'to': 2006,\n",
    "        'limit': 2\n",
    "    },\n",
    "    'SGP': {\n",
    "        'from': 1966,\n",
    "        'to': 1980,\n",
    "        'limit': 2\n",
    "    },\n",
    "    'VNM': {\n",
    "        'from': 1988,\n",
    "        'to': 1000000,\n",
    "        'limit': 2\n",
    "    }\n",
    "}"
   ]
  },
  {
   "cell_type": "code",
   "execution_count": 20,
   "id": "e04256a4",
   "metadata": {
    "execution": {
     "iopub.execute_input": "2024-03-21T16:40:47.768939Z",
     "iopub.status.busy": "2024-03-21T16:40:47.768500Z",
     "iopub.status.idle": "2024-03-21T16:40:47.898463Z",
     "shell.execute_reply": "2024-03-21T16:40:47.897274Z"
    },
    "papermill": {
     "duration": 0.149757,
     "end_time": "2024-03-21T16:40:47.901565",
     "exception": false,
     "start_time": "2024-03-21T16:40:47.751808",
     "status": "completed"
    },
    "tags": []
   },
   "outputs": [],
   "source": [
    "restriction_lambda = lambda row: childRestrictionPolicy[row['country_code']]['limit'] if row['country_code'] in childRestrictionPolicy and childRestrictionPolicy[row['country_code']]['from'] <= int(row['year']) <= childRestrictionPolicy[row['country_code']]['to'] else 50\n",
    "\n",
    "generalDF['restriction_limit'] = generalDF.apply(restriction_lambda, axis=1)\n"
   ]
  },
  {
   "cell_type": "markdown",
   "id": "d0f1f23e",
   "metadata": {
    "papermill": {
     "duration": 0.015282,
     "end_time": "2024-03-21T16:40:47.932959",
     "exception": false,
     "start_time": "2024-03-21T16:40:47.917677",
     "status": "completed"
    },
    "tags": []
   },
   "source": [
    "**Drop rows without population values**"
   ]
  },
  {
   "cell_type": "code",
   "execution_count": 21,
   "id": "dd4a57ec",
   "metadata": {
    "execution": {
     "iopub.execute_input": "2024-03-21T16:40:47.965625Z",
     "iopub.status.busy": "2024-03-21T16:40:47.965173Z",
     "iopub.status.idle": "2024-03-21T16:40:47.986440Z",
     "shell.execute_reply": "2024-03-21T16:40:47.985130Z"
    },
    "papermill": {
     "duration": 0.040711,
     "end_time": "2024-03-21T16:40:47.988959",
     "exception": false,
     "start_time": "2024-03-21T16:40:47.948248",
     "status": "completed"
    },
    "tags": []
   },
   "outputs": [
    {
     "data": {
      "text/html": [
       "<div>\n",
       "<style scoped>\n",
       "    .dataframe tbody tr th:only-of-type {\n",
       "        vertical-align: middle;\n",
       "    }\n",
       "\n",
       "    .dataframe tbody tr th {\n",
       "        vertical-align: top;\n",
       "    }\n",
       "\n",
       "    .dataframe thead th {\n",
       "        text-align: right;\n",
       "    }\n",
       "</style>\n",
       "<table border=\"1\" class=\"dataframe\">\n",
       "  <thead>\n",
       "    <tr style=\"text-align: right;\">\n",
       "      <th></th>\n",
       "      <th>country_code</th>\n",
       "      <th>country_name</th>\n",
       "      <th>year</th>\n",
       "      <th>gdp_per_cap</th>\n",
       "      <th>co2_emission</th>\n",
       "      <th>pop</th>\n",
       "      <th>restriction_limit</th>\n",
       "    </tr>\n",
       "  </thead>\n",
       "  <tbody>\n",
       "    <tr>\n",
       "      <th>114</th>\n",
       "      <td>AFG</td>\n",
       "      <td>Afghanistan</td>\n",
       "      <td>1960</td>\n",
       "      <td>59.773234</td>\n",
       "      <td>414.371000</td>\n",
       "      <td>8620000.0</td>\n",
       "      <td>50</td>\n",
       "    </tr>\n",
       "    <tr>\n",
       "      <th>115</th>\n",
       "      <td>AFG</td>\n",
       "      <td>Afghanistan</td>\n",
       "      <td>1961</td>\n",
       "      <td>59.860900</td>\n",
       "      <td>491.378000</td>\n",
       "      <td>8790000.0</td>\n",
       "      <td>50</td>\n",
       "    </tr>\n",
       "    <tr>\n",
       "      <th>116</th>\n",
       "      <td>AFG</td>\n",
       "      <td>Afghanistan</td>\n",
       "      <td>1962</td>\n",
       "      <td>58.458009</td>\n",
       "      <td>689.396000</td>\n",
       "      <td>8970000.0</td>\n",
       "      <td>50</td>\n",
       "    </tr>\n",
       "    <tr>\n",
       "      <th>117</th>\n",
       "      <td>AFG</td>\n",
       "      <td>Afghanistan</td>\n",
       "      <td>1963</td>\n",
       "      <td>78.706429</td>\n",
       "      <td>707.731000</td>\n",
       "      <td>9160000.0</td>\n",
       "      <td>50</td>\n",
       "    </tr>\n",
       "    <tr>\n",
       "      <th>118</th>\n",
       "      <td>AFG</td>\n",
       "      <td>Afghanistan</td>\n",
       "      <td>1964</td>\n",
       "      <td>82.095307</td>\n",
       "      <td>839.743000</td>\n",
       "      <td>9360000.0</td>\n",
       "      <td>50</td>\n",
       "    </tr>\n",
       "    <tr>\n",
       "      <th>...</th>\n",
       "      <td>...</td>\n",
       "      <td>...</td>\n",
       "      <td>...</td>\n",
       "      <td>...</td>\n",
       "      <td>...</td>\n",
       "      <td>...</td>\n",
       "      <td>...</td>\n",
       "    </tr>\n",
       "    <tr>\n",
       "      <th>15157</th>\n",
       "      <td>ZWE</td>\n",
       "      <td>Zimbabwe</td>\n",
       "      <td>2012</td>\n",
       "      <td>1304.968011</td>\n",
       "      <td>12010.000229</td>\n",
       "      <td>13300000.0</td>\n",
       "      <td>50</td>\n",
       "    </tr>\n",
       "    <tr>\n",
       "      <th>15158</th>\n",
       "      <td>ZWE</td>\n",
       "      <td>Zimbabwe</td>\n",
       "      <td>2013</td>\n",
       "      <td>1429.998461</td>\n",
       "      <td>12279.999733</td>\n",
       "      <td>13600000.0</td>\n",
       "      <td>50</td>\n",
       "    </tr>\n",
       "    <tr>\n",
       "      <th>15159</th>\n",
       "      <td>ZWE</td>\n",
       "      <td>Zimbabwe</td>\n",
       "      <td>2014</td>\n",
       "      <td>1434.896277</td>\n",
       "      <td>12079.999924</td>\n",
       "      <td>13900000.0</td>\n",
       "      <td>50</td>\n",
       "    </tr>\n",
       "    <tr>\n",
       "      <th>15160</th>\n",
       "      <td>ZWE</td>\n",
       "      <td>Zimbabwe</td>\n",
       "      <td>2015</td>\n",
       "      <td>1445.069702</td>\n",
       "      <td>12430.000305</td>\n",
       "      <td>14200000.0</td>\n",
       "      <td>50</td>\n",
       "    </tr>\n",
       "    <tr>\n",
       "      <th>15161</th>\n",
       "      <td>ZWE</td>\n",
       "      <td>Zimbabwe</td>\n",
       "      <td>2016</td>\n",
       "      <td>1464.588957</td>\n",
       "      <td>11020.000458</td>\n",
       "      <td>14500000.0</td>\n",
       "      <td>50</td>\n",
       "    </tr>\n",
       "  </tbody>\n",
       "</table>\n",
       "<p>11115 rows × 7 columns</p>\n",
       "</div>"
      ],
      "text/plain": [
       "      country_code country_name  year  gdp_per_cap  co2_emission         pop  \\\n",
       "114            AFG  Afghanistan  1960    59.773234    414.371000   8620000.0   \n",
       "115            AFG  Afghanistan  1961    59.860900    491.378000   8790000.0   \n",
       "116            AFG  Afghanistan  1962    58.458009    689.396000   8970000.0   \n",
       "117            AFG  Afghanistan  1963    78.706429    707.731000   9160000.0   \n",
       "118            AFG  Afghanistan  1964    82.095307    839.743000   9360000.0   \n",
       "...            ...          ...   ...          ...           ...         ...   \n",
       "15157          ZWE     Zimbabwe  2012  1304.968011  12010.000229  13300000.0   \n",
       "15158          ZWE     Zimbabwe  2013  1429.998461  12279.999733  13600000.0   \n",
       "15159          ZWE     Zimbabwe  2014  1434.896277  12079.999924  13900000.0   \n",
       "15160          ZWE     Zimbabwe  2015  1445.069702  12430.000305  14200000.0   \n",
       "15161          ZWE     Zimbabwe  2016  1464.588957  11020.000458  14500000.0   \n",
       "\n",
       "       restriction_limit  \n",
       "114                   50  \n",
       "115                   50  \n",
       "116                   50  \n",
       "117                   50  \n",
       "118                   50  \n",
       "...                  ...  \n",
       "15157                 50  \n",
       "15158                 50  \n",
       "15159                 50  \n",
       "15160                 50  \n",
       "15161                 50  \n",
       "\n",
       "[11115 rows x 7 columns]"
      ]
     },
     "execution_count": 21,
     "metadata": {},
     "output_type": "execute_result"
    }
   ],
   "source": [
    "generalDF = generalDF.dropna(subset=['pop'], how='all', axis=0)\n",
    "generalDF"
   ]
  },
  {
   "cell_type": "markdown",
   "id": "68bec091",
   "metadata": {
    "papermill": {
     "duration": 0.014995,
     "end_time": "2024-03-21T16:40:48.019251",
     "exception": false,
     "start_time": "2024-03-21T16:40:48.004256",
     "status": "completed"
    },
    "tags": []
   },
   "source": [
    "**Classify the type of countries by their income**"
   ]
  },
  {
   "cell_type": "code",
   "execution_count": 22,
   "id": "18d1d678",
   "metadata": {
    "execution": {
     "iopub.execute_input": "2024-03-21T16:40:48.053047Z",
     "iopub.status.busy": "2024-03-21T16:40:48.052301Z",
     "iopub.status.idle": "2024-03-21T16:40:48.067925Z",
     "shell.execute_reply": "2024-03-21T16:40:48.066829Z"
    },
    "papermill": {
     "duration": 0.03629,
     "end_time": "2024-03-21T16:40:48.070717",
     "exception": false,
     "start_time": "2024-03-21T16:40:48.034427",
     "status": "completed"
    },
    "tags": []
   },
   "outputs": [],
   "source": [
    "countryClassificationByGDP = pd.read_csv('/kaggle/input/country-classification/country_classification.csv', sep=';')"
   ]
  },
  {
   "cell_type": "code",
   "execution_count": 23,
   "id": "e706de94",
   "metadata": {
    "execution": {
     "iopub.execute_input": "2024-03-21T16:40:48.104790Z",
     "iopub.status.busy": "2024-03-21T16:40:48.104063Z",
     "iopub.status.idle": "2024-03-21T16:40:48.121706Z",
     "shell.execute_reply": "2024-03-21T16:40:48.120492Z"
    },
    "papermill": {
     "duration": 0.036954,
     "end_time": "2024-03-21T16:40:48.124158",
     "exception": false,
     "start_time": "2024-03-21T16:40:48.087204",
     "status": "completed"
    },
    "tags": []
   },
   "outputs": [
    {
     "data": {
      "text/html": [
       "<div>\n",
       "<style scoped>\n",
       "    .dataframe tbody tr th:only-of-type {\n",
       "        vertical-align: middle;\n",
       "    }\n",
       "\n",
       "    .dataframe tbody tr th {\n",
       "        vertical-align: top;\n",
       "    }\n",
       "\n",
       "    .dataframe thead th {\n",
       "        text-align: right;\n",
       "    }\n",
       "</style>\n",
       "<table border=\"1\" class=\"dataframe\">\n",
       "  <thead>\n",
       "    <tr style=\"text-align: right;\">\n",
       "      <th></th>\n",
       "      <th>Class</th>\n",
       "      <th>1989</th>\n",
       "      <th>1990</th>\n",
       "      <th>1991</th>\n",
       "      <th>1992</th>\n",
       "      <th>1993</th>\n",
       "      <th>1994</th>\n",
       "      <th>1995</th>\n",
       "      <th>1996</th>\n",
       "      <th>1997</th>\n",
       "      <th>...</th>\n",
       "      <th>2009</th>\n",
       "      <th>2010</th>\n",
       "      <th>2011</th>\n",
       "      <th>2012</th>\n",
       "      <th>2013</th>\n",
       "      <th>2014</th>\n",
       "      <th>2015</th>\n",
       "      <th>2016</th>\n",
       "      <th>2017</th>\n",
       "      <th>2018</th>\n",
       "    </tr>\n",
       "  </thead>\n",
       "  <tbody>\n",
       "    <tr>\n",
       "      <th>0</th>\n",
       "      <td>Low / Lower Middle</td>\n",
       "      <td>580</td>\n",
       "      <td>610</td>\n",
       "      <td>635</td>\n",
       "      <td>675</td>\n",
       "      <td>695</td>\n",
       "      <td>725</td>\n",
       "      <td>765</td>\n",
       "      <td>785</td>\n",
       "      <td>785</td>\n",
       "      <td>...</td>\n",
       "      <td>995</td>\n",
       "      <td>1005</td>\n",
       "      <td>1025</td>\n",
       "      <td>1035</td>\n",
       "      <td>1045</td>\n",
       "      <td>1045</td>\n",
       "      <td>1025</td>\n",
       "      <td>1005</td>\n",
       "      <td>995</td>\n",
       "      <td>1026</td>\n",
       "    </tr>\n",
       "    <tr>\n",
       "      <th>1</th>\n",
       "      <td>Lower Middle / Upper Middle</td>\n",
       "      <td>2335</td>\n",
       "      <td>2465</td>\n",
       "      <td>2555</td>\n",
       "      <td>2695</td>\n",
       "      <td>2785</td>\n",
       "      <td>2895</td>\n",
       "      <td>3035</td>\n",
       "      <td>3115</td>\n",
       "      <td>3125</td>\n",
       "      <td>...</td>\n",
       "      <td>3945</td>\n",
       "      <td>3975</td>\n",
       "      <td>4035</td>\n",
       "      <td>4085</td>\n",
       "      <td>4125</td>\n",
       "      <td>4125</td>\n",
       "      <td>4035</td>\n",
       "      <td>3955</td>\n",
       "      <td>3895</td>\n",
       "      <td>3995</td>\n",
       "    </tr>\n",
       "    <tr>\n",
       "      <th>2</th>\n",
       "      <td>Upper Middle / High</td>\n",
       "      <td>6000</td>\n",
       "      <td>7620</td>\n",
       "      <td>7910</td>\n",
       "      <td>8355</td>\n",
       "      <td>8625</td>\n",
       "      <td>8955</td>\n",
       "      <td>9385</td>\n",
       "      <td>9645</td>\n",
       "      <td>9655</td>\n",
       "      <td>...</td>\n",
       "      <td>12195</td>\n",
       "      <td>12275</td>\n",
       "      <td>12475</td>\n",
       "      <td>12615</td>\n",
       "      <td>12745</td>\n",
       "      <td>12735</td>\n",
       "      <td>12475</td>\n",
       "      <td>12235</td>\n",
       "      <td>12055</td>\n",
       "      <td>12375</td>\n",
       "    </tr>\n",
       "  </tbody>\n",
       "</table>\n",
       "<p>3 rows × 31 columns</p>\n",
       "</div>"
      ],
      "text/plain": [
       "                         Class  1989  1990  1991  1992  1993  1994  1995  \\\n",
       "0           Low / Lower Middle   580   610   635   675   695   725   765   \n",
       "1  Lower Middle / Upper Middle  2335  2465  2555  2695  2785  2895  3035   \n",
       "2          Upper Middle / High  6000  7620  7910  8355  8625  8955  9385   \n",
       "\n",
       "   1996  1997  ...   2009   2010   2011   2012   2013   2014   2015   2016  \\\n",
       "0   785   785  ...    995   1005   1025   1035   1045   1045   1025   1005   \n",
       "1  3115  3125  ...   3945   3975   4035   4085   4125   4125   4035   3955   \n",
       "2  9645  9655  ...  12195  12275  12475  12615  12745  12735  12475  12235   \n",
       "\n",
       "    2017   2018  \n",
       "0    995   1026  \n",
       "1   3895   3995  \n",
       "2  12055  12375  \n",
       "\n",
       "[3 rows x 31 columns]"
      ]
     },
     "execution_count": 23,
     "metadata": {},
     "output_type": "execute_result"
    }
   ],
   "source": [
    "countryClassificationByGDP"
   ]
  },
  {
   "cell_type": "code",
   "execution_count": 24,
   "id": "5ff1495e",
   "metadata": {
    "execution": {
     "iopub.execute_input": "2024-03-21T16:40:48.158948Z",
     "iopub.status.busy": "2024-03-21T16:40:48.158203Z",
     "iopub.status.idle": "2024-03-21T16:40:48.166108Z",
     "shell.execute_reply": "2024-03-21T16:40:48.165104Z"
    },
    "papermill": {
     "duration": 0.028568,
     "end_time": "2024-03-21T16:40:48.168558",
     "exception": false,
     "start_time": "2024-03-21T16:40:48.139990",
     "status": "completed"
    },
    "tags": []
   },
   "outputs": [],
   "source": [
    "# a function to classify countries by their GDP per capita and year using the country classification database\n",
    "def classifyCountriesBaseOnGDP(gdpPerCap, year):\n",
    "    try:\n",
    "        gdpPerCap = int(gdpPerCap)\n",
    "        year = int(year)\n",
    "    except:\n",
    "        return 'Unclassified'\n",
    "    year = max(year, 1989)\n",
    "    \n",
    "    low_lower_middle = int(countryClassificationByGDP.iloc[0][str(year)])\n",
    "    lower_middle_upper_middle = int(countryClassificationByGDP.iloc[1][str(year)])\n",
    "    upper_middle_high = int(countryClassificationByGDP.iloc[2][str(year)])\n",
    "    \n",
    "    if (gdpPerCap <= low_lower_middle):\n",
    "        return 'Low income'\n",
    "    elif (low_lower_middle < gdpPerCap and gdpPerCap <= lower_middle_upper_middle):\n",
    "        return 'Lower middle income'\n",
    "    elif (lower_middle_upper_middle < gdpPerCap and  gdpPerCap <= upper_middle_high):\n",
    "        return 'Upper middle income'\n",
    "    else:\n",
    "        return 'High income'\n",
    "    "
   ]
  },
  {
   "cell_type": "code",
   "execution_count": 25,
   "id": "67f776ab",
   "metadata": {
    "execution": {
     "iopub.execute_input": "2024-03-21T16:40:48.203355Z",
     "iopub.status.busy": "2024-03-21T16:40:48.202885Z",
     "iopub.status.idle": "2024-03-21T16:40:50.182056Z",
     "shell.execute_reply": "2024-03-21T16:40:50.180860Z"
    },
    "papermill": {
     "duration": 2.00082,
     "end_time": "2024-03-21T16:40:50.184723",
     "exception": false,
     "start_time": "2024-03-21T16:40:48.183903",
     "status": "completed"
    },
    "tags": []
   },
   "outputs": [
    {
     "name": "stderr",
     "output_type": "stream",
     "text": [
      "/tmp/ipykernel_18/1506511505.py:1: SettingWithCopyWarning: \n",
      "A value is trying to be set on a copy of a slice from a DataFrame.\n",
      "Try using .loc[row_indexer,col_indexer] = value instead\n",
      "\n",
      "See the caveats in the documentation: https://pandas.pydata.org/pandas-docs/stable/user_guide/indexing.html#returning-a-view-versus-a-copy\n",
      "  generalDF['country_type'] = generalDF.apply(lambda row: classifyCountriesBaseOnGDP(row['gdp_per_cap'], row['year']), axis = 1)\n"
     ]
    }
   ],
   "source": [
    "generalDF['country_type'] = generalDF.apply(lambda row: classifyCountriesBaseOnGDP(row['gdp_per_cap'], row['year']), axis = 1)"
   ]
  },
  {
   "cell_type": "code",
   "execution_count": 26,
   "id": "090b14f9",
   "metadata": {
    "execution": {
     "iopub.execute_input": "2024-03-21T16:40:50.221252Z",
     "iopub.status.busy": "2024-03-21T16:40:50.220819Z",
     "iopub.status.idle": "2024-03-21T16:40:50.236427Z",
     "shell.execute_reply": "2024-03-21T16:40:50.235436Z"
    },
    "papermill": {
     "duration": 0.037854,
     "end_time": "2024-03-21T16:40:50.239044",
     "exception": false,
     "start_time": "2024-03-21T16:40:50.201190",
     "status": "completed"
    },
    "tags": []
   },
   "outputs": [
    {
     "data": {
      "text/html": [
       "<div>\n",
       "<style scoped>\n",
       "    .dataframe tbody tr th:only-of-type {\n",
       "        vertical-align: middle;\n",
       "    }\n",
       "\n",
       "    .dataframe tbody tr th {\n",
       "        vertical-align: top;\n",
       "    }\n",
       "\n",
       "    .dataframe thead th {\n",
       "        text-align: right;\n",
       "    }\n",
       "</style>\n",
       "<table border=\"1\" class=\"dataframe\">\n",
       "  <thead>\n",
       "    <tr style=\"text-align: right;\">\n",
       "      <th></th>\n",
       "      <th>country_code</th>\n",
       "      <th>country_name</th>\n",
       "      <th>year</th>\n",
       "      <th>gdp_per_cap</th>\n",
       "      <th>co2_emission</th>\n",
       "      <th>pop</th>\n",
       "      <th>restriction_limit</th>\n",
       "      <th>country_type</th>\n",
       "    </tr>\n",
       "  </thead>\n",
       "  <tbody>\n",
       "    <tr>\n",
       "      <th>114</th>\n",
       "      <td>AFG</td>\n",
       "      <td>Afghanistan</td>\n",
       "      <td>1960</td>\n",
       "      <td>59.773234</td>\n",
       "      <td>414.371000</td>\n",
       "      <td>8620000.0</td>\n",
       "      <td>50</td>\n",
       "      <td>Low income</td>\n",
       "    </tr>\n",
       "    <tr>\n",
       "      <th>115</th>\n",
       "      <td>AFG</td>\n",
       "      <td>Afghanistan</td>\n",
       "      <td>1961</td>\n",
       "      <td>59.860900</td>\n",
       "      <td>491.378000</td>\n",
       "      <td>8790000.0</td>\n",
       "      <td>50</td>\n",
       "      <td>Low income</td>\n",
       "    </tr>\n",
       "    <tr>\n",
       "      <th>116</th>\n",
       "      <td>AFG</td>\n",
       "      <td>Afghanistan</td>\n",
       "      <td>1962</td>\n",
       "      <td>58.458009</td>\n",
       "      <td>689.396000</td>\n",
       "      <td>8970000.0</td>\n",
       "      <td>50</td>\n",
       "      <td>Low income</td>\n",
       "    </tr>\n",
       "    <tr>\n",
       "      <th>117</th>\n",
       "      <td>AFG</td>\n",
       "      <td>Afghanistan</td>\n",
       "      <td>1963</td>\n",
       "      <td>78.706429</td>\n",
       "      <td>707.731000</td>\n",
       "      <td>9160000.0</td>\n",
       "      <td>50</td>\n",
       "      <td>Low income</td>\n",
       "    </tr>\n",
       "    <tr>\n",
       "      <th>118</th>\n",
       "      <td>AFG</td>\n",
       "      <td>Afghanistan</td>\n",
       "      <td>1964</td>\n",
       "      <td>82.095307</td>\n",
       "      <td>839.743000</td>\n",
       "      <td>9360000.0</td>\n",
       "      <td>50</td>\n",
       "      <td>Low income</td>\n",
       "    </tr>\n",
       "    <tr>\n",
       "      <th>...</th>\n",
       "      <td>...</td>\n",
       "      <td>...</td>\n",
       "      <td>...</td>\n",
       "      <td>...</td>\n",
       "      <td>...</td>\n",
       "      <td>...</td>\n",
       "      <td>...</td>\n",
       "      <td>...</td>\n",
       "    </tr>\n",
       "    <tr>\n",
       "      <th>15157</th>\n",
       "      <td>ZWE</td>\n",
       "      <td>Zimbabwe</td>\n",
       "      <td>2012</td>\n",
       "      <td>1304.968011</td>\n",
       "      <td>12010.000229</td>\n",
       "      <td>13300000.0</td>\n",
       "      <td>50</td>\n",
       "      <td>Lower middle income</td>\n",
       "    </tr>\n",
       "    <tr>\n",
       "      <th>15158</th>\n",
       "      <td>ZWE</td>\n",
       "      <td>Zimbabwe</td>\n",
       "      <td>2013</td>\n",
       "      <td>1429.998461</td>\n",
       "      <td>12279.999733</td>\n",
       "      <td>13600000.0</td>\n",
       "      <td>50</td>\n",
       "      <td>Lower middle income</td>\n",
       "    </tr>\n",
       "    <tr>\n",
       "      <th>15159</th>\n",
       "      <td>ZWE</td>\n",
       "      <td>Zimbabwe</td>\n",
       "      <td>2014</td>\n",
       "      <td>1434.896277</td>\n",
       "      <td>12079.999924</td>\n",
       "      <td>13900000.0</td>\n",
       "      <td>50</td>\n",
       "      <td>Lower middle income</td>\n",
       "    </tr>\n",
       "    <tr>\n",
       "      <th>15160</th>\n",
       "      <td>ZWE</td>\n",
       "      <td>Zimbabwe</td>\n",
       "      <td>2015</td>\n",
       "      <td>1445.069702</td>\n",
       "      <td>12430.000305</td>\n",
       "      <td>14200000.0</td>\n",
       "      <td>50</td>\n",
       "      <td>Lower middle income</td>\n",
       "    </tr>\n",
       "    <tr>\n",
       "      <th>15161</th>\n",
       "      <td>ZWE</td>\n",
       "      <td>Zimbabwe</td>\n",
       "      <td>2016</td>\n",
       "      <td>1464.588957</td>\n",
       "      <td>11020.000458</td>\n",
       "      <td>14500000.0</td>\n",
       "      <td>50</td>\n",
       "      <td>Lower middle income</td>\n",
       "    </tr>\n",
       "  </tbody>\n",
       "</table>\n",
       "<p>11115 rows × 8 columns</p>\n",
       "</div>"
      ],
      "text/plain": [
       "      country_code country_name  year  gdp_per_cap  co2_emission         pop  \\\n",
       "114            AFG  Afghanistan  1960    59.773234    414.371000   8620000.0   \n",
       "115            AFG  Afghanistan  1961    59.860900    491.378000   8790000.0   \n",
       "116            AFG  Afghanistan  1962    58.458009    689.396000   8970000.0   \n",
       "117            AFG  Afghanistan  1963    78.706429    707.731000   9160000.0   \n",
       "118            AFG  Afghanistan  1964    82.095307    839.743000   9360000.0   \n",
       "...            ...          ...   ...          ...           ...         ...   \n",
       "15157          ZWE     Zimbabwe  2012  1304.968011  12010.000229  13300000.0   \n",
       "15158          ZWE     Zimbabwe  2013  1429.998461  12279.999733  13600000.0   \n",
       "15159          ZWE     Zimbabwe  2014  1434.896277  12079.999924  13900000.0   \n",
       "15160          ZWE     Zimbabwe  2015  1445.069702  12430.000305  14200000.0   \n",
       "15161          ZWE     Zimbabwe  2016  1464.588957  11020.000458  14500000.0   \n",
       "\n",
       "       restriction_limit         country_type  \n",
       "114                   50           Low income  \n",
       "115                   50           Low income  \n",
       "116                   50           Low income  \n",
       "117                   50           Low income  \n",
       "118                   50           Low income  \n",
       "...                  ...                  ...  \n",
       "15157                 50  Lower middle income  \n",
       "15158                 50  Lower middle income  \n",
       "15159                 50  Lower middle income  \n",
       "15160                 50  Lower middle income  \n",
       "15161                 50  Lower middle income  \n",
       "\n",
       "[11115 rows x 8 columns]"
      ]
     },
     "execution_count": 26,
     "metadata": {},
     "output_type": "execute_result"
    }
   ],
   "source": [
    "generalDF"
   ]
  },
  {
   "cell_type": "code",
   "execution_count": 27,
   "id": "3062f1e1",
   "metadata": {
    "execution": {
     "iopub.execute_input": "2024-03-21T16:40:50.274125Z",
     "iopub.status.busy": "2024-03-21T16:40:50.273140Z",
     "iopub.status.idle": "2024-03-21T16:40:50.278507Z",
     "shell.execute_reply": "2024-03-21T16:40:50.277307Z"
    },
    "papermill": {
     "duration": 0.027117,
     "end_time": "2024-03-21T16:40:50.281940",
     "exception": false,
     "start_time": "2024-03-21T16:40:50.254823",
     "status": "completed"
    },
    "tags": []
   },
   "outputs": [],
   "source": [
    "import matplotlib.pyplot as plt"
   ]
  },
  {
   "cell_type": "markdown",
   "id": "953a82ce",
   "metadata": {
    "papermill": {
     "duration": 0.015637,
     "end_time": "2024-03-21T16:40:50.313809",
     "exception": false,
     "start_time": "2024-03-21T16:40:50.298172",
     "status": "completed"
    },
    "tags": []
   },
   "source": [
    "**Plot Carbon dioxide emission of High Income countries**"
   ]
  },
  {
   "cell_type": "code",
   "execution_count": 28,
   "id": "ff0099dc",
   "metadata": {
    "execution": {
     "iopub.execute_input": "2024-03-21T16:40:50.347556Z",
     "iopub.status.busy": "2024-03-21T16:40:50.347117Z",
     "iopub.status.idle": "2024-03-21T16:40:50.403649Z",
     "shell.execute_reply": "2024-03-21T16:40:50.401823Z"
    },
    "papermill": {
     "duration": 0.076827,
     "end_time": "2024-03-21T16:40:50.406377",
     "exception": false,
     "start_time": "2024-03-21T16:40:50.329550",
     "status": "completed"
    },
    "tags": []
   },
   "outputs": [
    {
     "name": "stdout",
     "output_type": "stream",
     "text": [
      "{'HKG', 'FRA', 'NLD', 'AUT', 'CYP', 'GBR', 'CHE', 'DNK', 'ITA', 'BHR', 'USA', 'GRC', 'BHS', 'NOR', 'CAN', 'BRN', 'PRT', 'SGP', 'ARE', 'QAT', 'FIN', 'ESP', 'DEU', 'AUS', 'IRL', 'BEL', 'NZL', 'JPN', 'ISL', 'AND', 'SWE', 'LIE', 'LUX', 'MCO'}\n"
     ]
    }
   ],
   "source": [
    "# Only considered who was 'High income' in every year from 1989 to 2016\n",
    "highIncomeCountries = None\n",
    "\n",
    "for year in range(1989, 2017):\n",
    "    year_df = generalDF[(generalDF['year'] == year) & (generalDF['country_type'] == 'High income')]\n",
    "    if highIncomeCountries is None:\n",
    "        highIncomeCountries = set(year_df['country_code'].unique())\n",
    "    else:\n",
    "        highIncomeCountries &= set(year_df['country_code'].unique())\n",
    "        \n",
    "print(highIncomeCountries)"
   ]
  },
  {
   "cell_type": "code",
   "execution_count": 29,
   "id": "12758c09",
   "metadata": {
    "execution": {
     "iopub.execute_input": "2024-03-21T16:40:50.441381Z",
     "iopub.status.busy": "2024-03-21T16:40:50.440904Z",
     "iopub.status.idle": "2024-03-21T16:40:50.487714Z",
     "shell.execute_reply": "2024-03-21T16:40:50.486279Z"
    },
    "papermill": {
     "duration": 0.067983,
     "end_time": "2024-03-21T16:40:50.490587",
     "exception": false,
     "start_time": "2024-03-21T16:40:50.422604",
     "status": "completed"
    },
    "tags": []
   },
   "outputs": [],
   "source": [
    "data = {}\n",
    "for year in range(1989, 2017):\n",
    "    filtered_df = generalDF[(generalDF['year'] == year) & (generalDF['country_code'].isin(highIncomeCountries))]\n",
    "    co2_emission_sum = filtered_df['co2_emission'].sum()\n",
    "    data[str(year)] =  co2_emission_sum\n",
    "    "
   ]
  },
  {
   "cell_type": "code",
   "execution_count": 30,
   "id": "28e9a131",
   "metadata": {
    "execution": {
     "iopub.execute_input": "2024-03-21T16:40:50.526623Z",
     "iopub.status.busy": "2024-03-21T16:40:50.526204Z",
     "iopub.status.idle": "2024-03-21T16:40:50.808533Z",
     "shell.execute_reply": "2024-03-21T16:40:50.807249Z"
    },
    "papermill": {
     "duration": 0.303233,
     "end_time": "2024-03-21T16:40:50.811104",
     "exception": false,
     "start_time": "2024-03-21T16:40:50.507871",
     "status": "completed"
    },
    "tags": []
   },
   "outputs": [
    {
     "data": {
      "image/png": "[encoded data removed]",
      "text/plain": [
       "<Figure size 640x480 with 1 Axes>"
      ]
     },
     "metadata": {},
     "output_type": "display_data"
    }
   ],
   "source": [
    "keys = list(data.keys())\n",
    "values = list(data.values())\n",
    "\n",
    "# Plotting the data as a line graph\n",
    "plt.plot(keys, values, marker='o', linestyle='-')\n",
    "plt.xlabel('Year')\n",
    "plt.ylabel('CO2 Emission in ton')\n",
    "tick_positions = range(0, len(keys), 5)\n",
    "tick_labels = [keys[i] if i % 5 == 0 else '' for i in tick_positions]\n",
    "plt.xticks(tick_positions, tick_labels)\n",
    "plt.title('CO2 Emission by High Income Countries')\n",
    "plt.grid(True)  # Adding grid lines\n",
    "plt.show()"
   ]
  },
  {
   "cell_type": "code",
   "execution_count": 31,
   "id": "9922164a",
   "metadata": {
    "execution": {
     "iopub.execute_input": "2024-03-21T16:40:50.847017Z",
     "iopub.status.busy": "2024-03-21T16:40:50.845840Z",
     "iopub.status.idle": "2024-03-21T16:40:50.887360Z",
     "shell.execute_reply": "2024-03-21T16:40:50.885821Z"
    },
    "papermill": {
     "duration": 0.062418,
     "end_time": "2024-03-21T16:40:50.890124",
     "exception": false,
     "start_time": "2024-03-21T16:40:50.827706",
     "status": "completed"
    },
    "tags": []
   },
   "outputs": [],
   "source": [
    "data = {}\n",
    "for year in range(1989, 2017):\n",
    "    filtered_df = generalDF[(generalDF['year'] == year) & (generalDF['country_code'].isin(highIncomeCountries))]\n",
    "    pop = filtered_df['pop'].sum()\n",
    "    data[str(year)] =  pop\n",
    "    "
   ]
  },
  {
   "cell_type": "code",
   "execution_count": 32,
   "id": "325c0dac",
   "metadata": {
    "execution": {
     "iopub.execute_input": "2024-03-21T16:40:50.926988Z",
     "iopub.status.busy": "2024-03-21T16:40:50.925841Z",
     "iopub.status.idle": "2024-03-21T16:40:51.163719Z",
     "shell.execute_reply": "2024-03-21T16:40:51.161794Z"
    },
    "papermill": {
     "duration": 0.259517,
     "end_time": "2024-03-21T16:40:51.166641",
     "exception": false,
     "start_time": "2024-03-21T16:40:50.907124",
     "status": "completed"
    },
    "tags": []
   },
   "outputs": [
    {
     "data": {
      "image/png": "[encoded data removed]",
      "text/plain": [
       "<Figure size 640x480 with 1 Axes>"
      ]
     },
     "metadata": {},
     "output_type": "display_data"
    }
   ],
   "source": [
    "keys = list(data.keys())\n",
    "values = list(data.values())\n",
    "\n",
    "# Plotting the data as a line graph\n",
    "plt.plot(keys, values, marker='o', linestyle='-')\n",
    "plt.xlabel('Year')\n",
    "plt.ylabel('Population')\n",
    "tick_positions = range(0, len(keys), 5)\n",
    "tick_labels = [keys[i] if i % 5 == 0 else '' for i in tick_positions]\n",
    "plt.xticks(tick_positions, tick_labels)\n",
    "plt.title('Population in High Income Countries')\n",
    "plt.grid(True)  # Adding grid lines\n",
    "plt.ylim(0)\n",
    "plt.show()"
   ]
  },
  {
   "cell_type": "markdown",
   "id": "44e6dd67",
   "metadata": {
    "papermill": {
     "duration": 0.02285,
     "end_time": "2024-03-21T16:40:51.208986",
     "exception": false,
     "start_time": "2024-03-21T16:40:51.186136",
     "status": "completed"
    },
    "tags": []
   },
   "source": [
    "**Upper middle income**"
   ]
  },
  {
   "cell_type": "code",
   "execution_count": 33,
   "id": "a1ee4c0f",
   "metadata": {
    "execution": {
     "iopub.execute_input": "2024-03-21T16:40:51.250117Z",
     "iopub.status.busy": "2024-03-21T16:40:51.249666Z",
     "iopub.status.idle": "2024-03-21T16:40:51.272886Z",
     "shell.execute_reply": "2024-03-21T16:40:51.271313Z"
    },
    "papermill": {
     "duration": 0.045066,
     "end_time": "2024-03-21T16:40:51.275336",
     "exception": false,
     "start_time": "2024-03-21T16:40:51.230270",
     "status": "completed"
    },
    "tags": []
   },
   "outputs": [
    {
     "name": "stdout",
     "output_type": "stream",
     "text": [
      "{'NRU', 'MDV', 'VCT', 'COL', 'BLZ', 'LBN', 'ROU', 'IRN', 'MNE', 'BIH', 'DMA', 'PRY', 'THA', 'SRB', 'IRQ', 'TKM', 'NAM', 'CRI', 'GAB', 'BGR', 'GUY', 'MYS', 'TUR', 'BWA', 'LCA', 'MEX', 'CHN', 'DOM', 'ZAF', 'JAM', 'MKD', 'MUS', 'GRD', 'ECU', 'CUB', 'SUR', 'PER', 'BLR'}\n"
     ]
    }
   ],
   "source": [
    "# Only considered who was 'High income' in every year from 1989 to 2016\n",
    "upperMiddleIncomeCountries = None\n",
    "\n",
    "for year in range(2010, 2017):\n",
    "    year_df = generalDF[(generalDF['year'] == year) & (generalDF['country_type'] == 'Upper middle income')]\n",
    "    if upperMiddleIncomeCountries is None:\n",
    "        upperMiddleIncomeCountries = set(year_df['country_code'].unique())\n",
    "    else:\n",
    "        upperMiddleIncomeCountries &= set(year_df['country_code'].unique())\n",
    "        \n",
    "print(upperMiddleIncomeCountries)"
   ]
  },
  {
   "cell_type": "code",
   "execution_count": 34,
   "id": "dffd3d6e",
   "metadata": {
    "execution": {
     "iopub.execute_input": "2024-03-21T16:40:51.312985Z",
     "iopub.status.busy": "2024-03-21T16:40:51.312502Z",
     "iopub.status.idle": "2024-03-21T16:40:51.357474Z",
     "shell.execute_reply": "2024-03-21T16:40:51.356406Z"
    },
    "papermill": {
     "duration": 0.066308,
     "end_time": "2024-03-21T16:40:51.360101",
     "exception": false,
     "start_time": "2024-03-21T16:40:51.293793",
     "status": "completed"
    },
    "tags": []
   },
   "outputs": [],
   "source": [
    "data = {}\n",
    "for year in range(1989, 2017):\n",
    "    filtered_df = generalDF[(generalDF['year'] == year) & (generalDF['country_code'].isin(upperMiddleIncomeCountries))]\n",
    "    co2_emission_sum = filtered_df['co2_emission'].sum()\n",
    "    data[str(year)] =  co2_emission_sum\n",
    "    "
   ]
  },
  {
   "cell_type": "code",
   "execution_count": 35,
   "id": "cce16e2a",
   "metadata": {
    "execution": {
     "iopub.execute_input": "2024-03-21T16:40:51.396573Z",
     "iopub.status.busy": "2024-03-21T16:40:51.396113Z",
     "iopub.status.idle": "2024-03-21T16:40:51.597781Z",
     "shell.execute_reply": "2024-03-21T16:40:51.596610Z"
    },
    "papermill": {
     "duration": 0.223826,
     "end_time": "2024-03-21T16:40:51.601176",
     "exception": false,
     "start_time": "2024-03-21T16:40:51.377350",
     "status": "completed"
    },
    "tags": []
   },
   "outputs": [
    {
     "data": {
      "image/png": "[encoded data removed]",
      "text/plain": [
       "<Figure size 640x480 with 1 Axes>"
      ]
     },
     "metadata": {},
     "output_type": "display_data"
    }
   ],
   "source": [
    "keys = list(data.keys())\n",
    "values = list(data.values())\n",
    "\n",
    "# Plotting the data as a line graph\n",
    "plt.plot(keys, values, marker='o', linestyle='-')\n",
    "plt.xlabel('Year')\n",
    "plt.ylabel('CO2 Emission in ton')\n",
    "tick_positions = range(0, len(keys), 5)\n",
    "tick_labels = [keys[i] if i % 5 == 0 else '' for i in tick_positions]\n",
    "plt.xticks(tick_positions, tick_labels)\n",
    "plt.title('CO2 Emission by Upper Middle Income Countries')\n",
    "plt.grid(True)  # Adding grid lines\n",
    "plt.show()"
   ]
  },
  {
   "cell_type": "code",
   "execution_count": 36,
   "id": "1028cd63",
   "metadata": {
    "execution": {
     "iopub.execute_input": "2024-03-21T16:40:51.639773Z",
     "iopub.status.busy": "2024-03-21T16:40:51.638437Z",
     "iopub.status.idle": "2024-03-21T16:40:51.683467Z",
     "shell.execute_reply": "2024-03-21T16:40:51.682251Z"
    },
    "papermill": {
     "duration": 0.066917,
     "end_time": "2024-03-21T16:40:51.686317",
     "exception": false,
     "start_time": "2024-03-21T16:40:51.619400",
     "status": "completed"
    },
    "tags": []
   },
   "outputs": [],
   "source": [
    "data = {}\n",
    "for year in range(1989, 2017):\n",
    "    filtered_df = generalDF[(generalDF['year'] == year) & (generalDF['country_code'].isin(upperMiddleIncomeCountries))]\n",
    "    pop = filtered_df['pop'].sum()\n",
    "    data[str(year)] =  pop\n",
    "    "
   ]
  },
  {
   "cell_type": "code",
   "execution_count": 37,
   "id": "388e7592",
   "metadata": {
    "execution": {
     "iopub.execute_input": "2024-03-21T16:40:51.724975Z",
     "iopub.status.busy": "2024-03-21T16:40:51.724137Z",
     "iopub.status.idle": "2024-03-21T16:40:51.930196Z",
     "shell.execute_reply": "2024-03-21T16:40:51.928874Z"
    },
    "papermill": {
     "duration": 0.228204,
     "end_time": "2024-03-21T16:40:51.932821",
     "exception": false,
     "start_time": "2024-03-21T16:40:51.704617",
     "status": "completed"
    },
    "tags": []
   },
   "outputs": [
    {
     "data": {
      "image/png": "[encoded data removed]",
      "text/plain": [
       "<Figure size 640x480 with 1 Axes>"
      ]
     },
     "metadata": {},
     "output_type": "display_data"
    }
   ],
   "source": [
    "keys = list(data.keys())\n",
    "values = list(data.values())\n",
    "\n",
    "# Plotting the data as a line graph\n",
    "plt.plot(keys, values, marker='o', linestyle='-')\n",
    "plt.xlabel('Year')\n",
    "plt.ylabel('Population')\n",
    "tick_positions = range(0, len(keys), 5)\n",
    "tick_labels = [keys[i] if i % 5 == 0 else '' for i in tick_positions]\n",
    "plt.xticks(tick_positions, tick_labels)\n",
    "plt.title('Population in Upper Middle Income Countries')\n",
    "plt.grid(True)  # Adding grid lines\n",
    "plt.show()"
   ]
  },
  {
   "cell_type": "code",
   "execution_count": 38,
   "id": "3c37ccd5",
   "metadata": {
    "execution": {
     "iopub.execute_input": "2024-03-21T16:40:51.973903Z",
     "iopub.status.busy": "2024-03-21T16:40:51.972849Z",
     "iopub.status.idle": "2024-03-21T16:40:51.996051Z",
     "shell.execute_reply": "2024-03-21T16:40:51.994650Z"
    },
    "papermill": {
     "duration": 0.046354,
     "end_time": "2024-03-21T16:40:51.998638",
     "exception": false,
     "start_time": "2024-03-21T16:40:51.952284",
     "status": "completed"
    },
    "tags": []
   },
   "outputs": [
    {
     "name": "stdout",
     "output_type": "stream",
     "text": [
      "{'TUV', 'SDN', 'LSO', 'KEN', 'PNG', 'ARM', 'LKA', 'PSE', 'COG', 'KIR', 'UZB', 'CIV', 'PHL', 'SLB', 'VUT', 'YEM', 'IDN', 'BEN', 'BOL', 'HND', 'EGY', 'ZMB', 'MAR', 'SEN', 'CPV', 'VNM', 'NIC', 'MHL', 'FSM', 'CMR', 'COM', 'BTN', 'NGA', 'SLV', 'HTI', 'LAO', 'MRT', 'GHA', 'MDA', 'DJI', 'IND', 'STP'}\n"
     ]
    }
   ],
   "source": [
    "# Only considered who was 'Lower Middle income' in every year from 1989 to 2016\n",
    "lowerMiddleIncomeCountries = None\n",
    "\n",
    "for year in range(2010, 2017):\n",
    "    year_df = generalDF[(generalDF['year'] == year) & (generalDF['country_type'] == 'Lower middle income')]\n",
    "    if lowerMiddleIncomeCountries is None:\n",
    "        lowerMiddleIncomeCountries = set(year_df['country_code'].unique())\n",
    "    else:\n",
    "        lowerMiddleIncomeCountries &= set(year_df['country_code'].unique())\n",
    "        \n",
    "print(lowerMiddleIncomeCountries)"
   ]
  },
  {
   "cell_type": "code",
   "execution_count": 39,
   "id": "161d3cac",
   "metadata": {
    "execution": {
     "iopub.execute_input": "2024-03-21T16:40:52.038356Z",
     "iopub.status.busy": "2024-03-21T16:40:52.037424Z",
     "iopub.status.idle": "2024-03-21T16:40:52.087591Z",
     "shell.execute_reply": "2024-03-21T16:40:52.086322Z"
    },
    "papermill": {
     "duration": 0.073287,
     "end_time": "2024-03-21T16:40:52.090506",
     "exception": false,
     "start_time": "2024-03-21T16:40:52.017219",
     "status": "completed"
    },
    "tags": []
   },
   "outputs": [],
   "source": [
    "data = {}\n",
    "for year in range(1989, 2017):\n",
    "    filtered_df = generalDF[(generalDF['year'] == year) & (generalDF['country_code'].isin(lowerMiddleIncomeCountries))]\n",
    "    co2_emission_sum = filtered_df['co2_emission'].sum()\n",
    "    data[str(year)] =  co2_emission_sum"
   ]
  },
  {
   "cell_type": "code",
   "execution_count": 40,
   "id": "b071f0ac",
   "metadata": {
    "execution": {
     "iopub.execute_input": "2024-03-21T16:40:52.129460Z",
     "iopub.status.busy": "2024-03-21T16:40:52.128996Z",
     "iopub.status.idle": "2024-03-21T16:40:52.343112Z",
     "shell.execute_reply": "2024-03-21T16:40:52.342210Z"
    },
    "papermill": {
     "duration": 0.236433,
     "end_time": "2024-03-21T16:40:52.345387",
     "exception": false,
     "start_time": "2024-03-21T16:40:52.108954",
     "status": "completed"
    },
    "tags": []
   },
   "outputs": [
    {
     "data": {
      "image/png": "[encoded data removed]",
      "text/plain": [
       "<Figure size 640x480 with 1 Axes>"
      ]
     },
     "metadata": {},
     "output_type": "display_data"
    }
   ],
   "source": [
    "keys = list(data.keys())\n",
    "values = list(data.values())\n",
    "\n",
    "# Plotting the data as a line graph\n",
    "plt.plot(keys, values, marker='o', linestyle='-')\n",
    "plt.xlabel('Year')\n",
    "plt.ylabel('CO2 Emission in ton')\n",
    "tick_positions = range(0, len(keys), 5)\n",
    "tick_labels = [keys[i] if i % 5 == 0 else '' for i in tick_positions]\n",
    "plt.xticks(tick_positions, tick_labels)\n",
    "plt.title('CO2 Emission in Lower Middle Income Countries')\n",
    "plt.grid(True)  # Adding grid lines\n",
    "plt.show()"
   ]
  },
  {
   "cell_type": "code",
   "execution_count": 41,
   "id": "d3dfef16",
   "metadata": {
    "execution": {
     "iopub.execute_input": "2024-03-21T16:40:52.387535Z",
     "iopub.status.busy": "2024-03-21T16:40:52.386282Z",
     "iopub.status.idle": "2024-03-21T16:40:52.438851Z",
     "shell.execute_reply": "2024-03-21T16:40:52.437540Z"
    },
    "papermill": {
     "duration": 0.076079,
     "end_time": "2024-03-21T16:40:52.441672",
     "exception": false,
     "start_time": "2024-03-21T16:40:52.365593",
     "status": "completed"
    },
    "tags": []
   },
   "outputs": [],
   "source": [
    "data = {}\n",
    "for year in range(1989, 2017):\n",
    "    filtered_df = generalDF[(generalDF['year'] == year) & (generalDF['country_code'].isin(lowerMiddleIncomeCountries))]\n",
    "    pop = filtered_df['pop'].sum()\n",
    "    data[str(year)] =  pop"
   ]
  },
  {
   "cell_type": "code",
   "execution_count": 42,
   "id": "7a9c2422",
   "metadata": {
    "execution": {
     "iopub.execute_input": "2024-03-21T16:40:52.482583Z",
     "iopub.status.busy": "2024-03-21T16:40:52.481605Z",
     "iopub.status.idle": "2024-03-21T16:40:52.733011Z",
     "shell.execute_reply": "2024-03-21T16:40:52.731495Z"
    },
    "papermill": {
     "duration": 0.274834,
     "end_time": "2024-03-21T16:40:52.735932",
     "exception": false,
     "start_time": "2024-03-21T16:40:52.461098",
     "status": "completed"
    },
    "tags": []
   },
   "outputs": [
    {
     "data": {
      "image/png": "[encoded data removed]",
      "text/plain": [
       "<Figure size 640x480 with 1 Axes>"
      ]
     },
     "metadata": {},
     "output_type": "display_data"
    }
   ],
   "source": [
    "keys = list(data.keys())\n",
    "values = list(data.values())\n",
    "\n",
    "# Plotting the data as a line graph\n",
    "plt.plot(keys, values, marker='o', linestyle='-')\n",
    "plt.xlabel('Year')\n",
    "plt.ylabel('Population')\n",
    "tick_positions = range(0, len(keys), 5)\n",
    "tick_labels = [keys[i] if i % 5 == 0 else '' for i in tick_positions]\n",
    "plt.xticks(tick_positions, tick_labels)\n",
    "plt.title('Population in Lower Middle Income Countries')\n",
    "plt.grid(True)  # Adding grid lines\n",
    "plt.show()"
   ]
  },
  {
   "cell_type": "code",
   "execution_count": 43,
   "id": "ac0bfdf7",
   "metadata": {
    "execution": {
     "iopub.execute_input": "2024-03-21T16:40:52.777350Z",
     "iopub.status.busy": "2024-03-21T16:40:52.776896Z",
     "iopub.status.idle": "2024-03-21T16:40:52.834450Z",
     "shell.execute_reply": "2024-03-21T16:40:52.833271Z"
    },
    "papermill": {
     "duration": 0.081334,
     "end_time": "2024-03-21T16:40:52.837069",
     "exception": false,
     "start_time": "2024-03-21T16:40:52.755735",
     "status": "completed"
    },
    "tags": []
   },
   "outputs": [
    {
     "name": "stdout",
     "output_type": "stream",
     "text": [
      "{'BFA', 'RWA', 'UGA', 'COD', 'MLI', 'GIN', 'MWI', 'CAF', 'SLE', 'TCD', 'NER', 'TGO', 'BDI', 'NPL', 'TZA', 'MDG', 'GNB', 'ETH'}\n"
     ]
    }
   ],
   "source": [
    "# Only considered who was 'Low income' in every year from 1989 to 2016\n",
    "lowIncomeCountries = None\n",
    "\n",
    "for year in range(1989, 2017):\n",
    "    year_df = generalDF[(generalDF['year'] == year) & (generalDF['country_type'] == 'Low income')]\n",
    "    if lowIncomeCountries is None:\n",
    "        lowIncomeCountries = set(year_df['country_code'].unique())\n",
    "    else:\n",
    "        lowIncomeCountries &= set(year_df['country_code'].unique())\n",
    "        \n",
    "print(lowIncomeCountries)"
   ]
  },
  {
   "cell_type": "code",
   "execution_count": 44,
   "id": "e12ac915",
   "metadata": {
    "execution": {
     "iopub.execute_input": "2024-03-21T16:40:52.880366Z",
     "iopub.status.busy": "2024-03-21T16:40:52.879126Z",
     "iopub.status.idle": "2024-03-21T16:40:52.924582Z",
     "shell.execute_reply": "2024-03-21T16:40:52.923086Z"
    },
    "papermill": {
     "duration": 0.071211,
     "end_time": "2024-03-21T16:40:52.927676",
     "exception": false,
     "start_time": "2024-03-21T16:40:52.856465",
     "status": "completed"
    },
    "tags": []
   },
   "outputs": [],
   "source": [
    "data = {}\n",
    "for year in range(1989, 2017):\n",
    "    filtered_df = generalDF[(generalDF['year'] == year) & (generalDF['country_code'].isin(lowIncomeCountries))]\n",
    "    co2_emission_sum = filtered_df['co2_emission'].sum()\n",
    "    data[str(year)] =  co2_emission_sum"
   ]
  },
  {
   "cell_type": "code",
   "execution_count": 45,
   "id": "20924ec3",
   "metadata": {
    "execution": {
     "iopub.execute_input": "2024-03-21T16:40:52.970651Z",
     "iopub.status.busy": "2024-03-21T16:40:52.970185Z",
     "iopub.status.idle": "2024-03-21T16:40:53.224984Z",
     "shell.execute_reply": "2024-03-21T16:40:53.223719Z"
    },
    "papermill": {
     "duration": 0.279993,
     "end_time": "2024-03-21T16:40:53.227641",
     "exception": false,
     "start_time": "2024-03-21T16:40:52.947648",
     "status": "completed"
    },
    "tags": []
   },
   "outputs": [
    {
     "data": {
      "image/png": "[encoded data removed]",
      "text/plain": [
       "<Figure size 640x480 with 1 Axes>"
      ]
     },
     "metadata": {},
     "output_type": "display_data"
    }
   ],
   "source": [
    "keys = list(data.keys())\n",
    "values = list(data.values())\n",
    "\n",
    "# Plotting the data as a line graph\n",
    "plt.plot(keys, values, marker='o', linestyle='-')\n",
    "plt.xlabel('Year')\n",
    "plt.ylabel('CO2 Emission in ton')\n",
    "tick_positions = range(0, len(keys), 5)\n",
    "tick_labels = [keys[i] if i % 5 == 0 else '' for i in tick_positions]\n",
    "plt.xticks(tick_positions, tick_labels)\n",
    "plt.title('CO2 Emission by Low Income Countries')\n",
    "plt.grid(True)  # Adding grid lines\n",
    "plt.show()"
   ]
  },
  {
   "cell_type": "code",
   "execution_count": 46,
   "id": "3dc60ea2",
   "metadata": {
    "execution": {
     "iopub.execute_input": "2024-03-21T16:40:53.272768Z",
     "iopub.status.busy": "2024-03-21T16:40:53.272283Z",
     "iopub.status.idle": "2024-03-21T16:40:53.318517Z",
     "shell.execute_reply": "2024-03-21T16:40:53.317277Z"
    },
    "papermill": {
     "duration": 0.072411,
     "end_time": "2024-03-21T16:40:53.321418",
     "exception": false,
     "start_time": "2024-03-21T16:40:53.249007",
     "status": "completed"
    },
    "tags": []
   },
   "outputs": [],
   "source": [
    "data = {}\n",
    "for year in range(1989, 2017):\n",
    "    filtered_df = generalDF[(generalDF['year'] == year) & (generalDF['country_code'].isin(lowIncomeCountries))]\n",
    "    pop = filtered_df['pop'].sum()\n",
    "    data[str(year)] =  pop"
   ]
  },
  {
   "cell_type": "code",
   "execution_count": 47,
   "id": "3f523060",
   "metadata": {
    "execution": {
     "iopub.execute_input": "2024-03-21T16:40:53.364153Z",
     "iopub.status.busy": "2024-03-21T16:40:53.363503Z",
     "iopub.status.idle": "2024-03-21T16:40:53.617966Z",
     "shell.execute_reply": "2024-03-21T16:40:53.616513Z"
    },
    "papermill": {
     "duration": 0.279124,
     "end_time": "2024-03-21T16:40:53.620803",
     "exception": false,
     "start_time": "2024-03-21T16:40:53.341679",
     "status": "completed"
    },
    "tags": []
   },
   "outputs": [
    {
     "data": {
      "image/png": "[encoded data removed]",
      "text/plain": [
       "<Figure size 640x480 with 1 Axes>"
      ]
     },
     "metadata": {},
     "output_type": "display_data"
    }
   ],
   "source": [
    "keys = list(data.keys())\n",
    "values = list(data.values())\n",
    "\n",
    "# Plotting the data as a line graph\n",
    "plt.plot(keys, values, marker='o', linestyle='-')\n",
    "plt.xlabel('Year')\n",
    "plt.ylabel('Population')\n",
    "tick_positions = range(0, len(keys), 5)\n",
    "tick_labels = [keys[i] if i % 5 == 0 else '' for i in tick_positions]\n",
    "plt.xticks(tick_positions, tick_labels)\n",
    "plt.title('Population in Low Income Countries')\n",
    "plt.grid(True)  # Adding grid lines\n",
    "plt.show()"
   ]
  },
  {
   "cell_type": "code",
   "execution_count": 48,
   "id": "4b9dded7",
   "metadata": {
    "execution": {
     "iopub.execute_input": "2024-03-21T16:40:53.666091Z",
     "iopub.status.busy": "2024-03-21T16:40:53.665651Z",
     "iopub.status.idle": "2024-03-21T16:40:54.152176Z",
     "shell.execute_reply": "2024-03-21T16:40:54.150778Z"
    },
    "papermill": {
     "duration": 0.512604,
     "end_time": "2024-03-21T16:40:54.154862",
     "exception": false,
     "start_time": "2024-03-21T16:40:53.642258",
     "status": "completed"
    },
    "tags": []
   },
   "outputs": [
    {
     "data": {
      "image/png": "[encoded data removed]",
      "text/plain": [
       "<Figure size 1000x600 with 1 Axes>"
      ]
     },
     "metadata": {},
     "output_type": "display_data"
    }
   ],
   "source": [
    "# Create subplots with 1 row and 1 column\n",
    "fig, ax = plt.subplots(1, 1, figsize=(10, 6))\n",
    "\n",
    "data_low_income = {}\n",
    "for year in range(1989, 2017):\n",
    "    filtered_df = generalDF[(generalDF['year'] == year) & (generalDF['country_code'].isin(lowIncomeCountries))]\n",
    "    co2_emission_sum = filtered_df['co2_emission'].sum()\n",
    "    data_low_income[str(year)] =  co2_emission_sum\n",
    "\n",
    "data_lower_middle_income = {}\n",
    "for year in range(1989, 2017):\n",
    "    filtered_df = generalDF[(generalDF['year'] == year) & (generalDF['country_code'].isin(lowerMiddleIncomeCountries))]\n",
    "    co2_emission_sum = filtered_df['co2_emission'].sum()\n",
    "    data_lower_middle_income[str(year)] =  co2_emission_sum\n",
    "\n",
    "data_upper_middle_income = {}\n",
    "for year in range(1989, 2017):\n",
    "    filtered_df = generalDF[(generalDF['year'] == year) & (generalDF['country_code'].isin(upperMiddleIncomeCountries))]\n",
    "    co2_emission_sum = filtered_df['co2_emission'].sum()\n",
    "    data_upper_middle_income[str(year)] =  co2_emission_sum\n",
    "\n",
    "data_high_income = {}\n",
    "for year in range(1989, 2017):\n",
    "    filtered_df = generalDF[(generalDF['year'] == year) & (generalDF['country_code'].isin(highIncomeCountries))]\n",
    "    co2_emission_sum = filtered_df['co2_emission'].sum()\n",
    "    data_high_income[str(year)] =  co2_emission_sum\n",
    "    \n",
    "# Plot low income countries\n",
    "keys = list(data_low_income.keys())\n",
    "values = list(data_low_income.values())\n",
    "ax.plot(keys, values, label='Low Income')\n",
    "\n",
    "# Plot lower middle income countries\n",
    "keys = list(data_lower_middle_income.keys())\n",
    "values = list(data_lower_middle_income.values())\n",
    "ax.plot(keys, values, label='Lower Middle Income')\n",
    "\n",
    "# Plot upper middle income countries\n",
    "keys = list(data_upper_middle_income.keys())\n",
    "values = list(data_upper_middle_income.values())\n",
    "ax.plot(keys, values, label='Upper Middle Income')\n",
    "\n",
    "# Plot high income countries\n",
    "keys = list(data_high_income.keys())\n",
    "values = list(data_high_income.values())\n",
    "ax.plot(keys, values, label='High Income')\n",
    "\n",
    "# Customize the plot\n",
    "ax.set_xlabel('Year')\n",
    "ax.set_ylabel('CO2 Emissions in ton')\n",
    "tick_positions = range(0, len(keys), 5)\n",
    "tick_labels = [keys[i] if i % 5 == 0 else '' for i in tick_positions]\n",
    "ax.set_xticks(tick_positions, tick_labels)\n",
    "ax.set_title('CO2 Emissions by Income Level')\n",
    "ax.legend()\n",
    "ax.grid(False)\n",
    "\n",
    "# Show the plot\n",
    "plt.show()"
   ]
  },
  {
   "cell_type": "code",
   "execution_count": 49,
   "id": "62e03a30",
   "metadata": {
    "execution": {
     "iopub.execute_input": "2024-03-21T16:40:54.201360Z",
     "iopub.status.busy": "2024-03-21T16:40:54.200882Z",
     "iopub.status.idle": "2024-03-21T16:40:54.674256Z",
     "shell.execute_reply": "2024-03-21T16:40:54.673247Z"
    },
    "papermill": {
     "duration": 0.499469,
     "end_time": "2024-03-21T16:40:54.676538",
     "exception": false,
     "start_time": "2024-03-21T16:40:54.177069",
     "status": "completed"
    },
    "tags": []
   },
   "outputs": [
    {
     "data": {
      "image/png": "[encoded data removed]",
      "text/plain": [
       "<Figure size 1000x600 with 1 Axes>"
      ]
     },
     "metadata": {},
     "output_type": "display_data"
    }
   ],
   "source": [
    "# Create subplots with 1 row and 1 column\n",
    "fig, ax = plt.subplots(1, 1, figsize=(10, 6))\n",
    "\n",
    "data_low_income = {}\n",
    "for year in range(1989, 2017):\n",
    "    filtered_df = generalDF[(generalDF['year'] == year) & (generalDF['country_code'].isin(lowIncomeCountries))]\n",
    "    pop = filtered_df['pop'].sum()\n",
    "    data_low_income[str(year)] =  pop\n",
    "\n",
    "data_lower_middle_income = {}\n",
    "for year in range(1989, 2017):\n",
    "    filtered_df = generalDF[(generalDF['year'] == year) & (generalDF['country_code'].isin(lowerMiddleIncomeCountries))]\n",
    "    pop = filtered_df['pop'].sum()\n",
    "    data_lower_middle_income[str(year)] =  pop\n",
    "\n",
    "data_upper_middle_income = {}\n",
    "for year in range(1989, 2017):\n",
    "    filtered_df = generalDF[(generalDF['year'] == year) & (generalDF['country_code'].isin(upperMiddleIncomeCountries))]\n",
    "    pop = filtered_df['pop'].sum()\n",
    "    data_upper_middle_income[str(year)] =  pop\n",
    "\n",
    "data_high_income = {}\n",
    "for year in range(1989, 2017):\n",
    "    filtered_df = generalDF[(generalDF['year'] == year) & (generalDF['country_code'].isin(highIncomeCountries))]\n",
    "    pop = filtered_df['pop'].sum()\n",
    "    data_high_income[str(year)] =  pop\n",
    "\n",
    "# Plot low income countries\n",
    "keys = list(data_low_income.keys())\n",
    "values = list(data_low_income.values())\n",
    "ax.plot(keys, values, label='Low Income')\n",
    "\n",
    "# Plot lower middle income countries\n",
    "keys = list(data_lower_middle_income.keys())\n",
    "values = list(data_lower_middle_income.values())\n",
    "ax.plot(keys, values, label='Lower Middle Income')\n",
    "\n",
    "# Plot upper middle income countries\n",
    "keys = list(data_upper_middle_income.keys())\n",
    "values = list(data_upper_middle_income.values())\n",
    "ax.plot(keys, values, label='Upper Middle Income')\n",
    "\n",
    "# Plot high income countries\n",
    "keys = list(data_high_income.keys())\n",
    "values = list(data_high_income.values())\n",
    "ax.plot(keys, values, label='High Income')\n",
    "\n",
    "# Customize the plot\n",
    "ax.set_xlabel('Year')\n",
    "ax.set_ylabel('Population')\n",
    "tick_positions = range(0, len(keys), 5)\n",
    "tick_labels = [keys[i] if i % 5 == 0 else '' for i in tick_positions]\n",
    "ax.set_xticks(tick_positions, tick_labels)\n",
    "ax.set_title('Population by Income Level')\n",
    "ax.legend()\n",
    "ax.grid(False)\n",
    "\n",
    "# Show the plot\n",
    "plt.show()"
   ]
  }
 ],
 "metadata": {
  "kaggle": {
   "accelerator": "none",
   "dataSources": [
    {
     "datasetId": 2007861,
     "sourceId": 3325325,
     "sourceType": "datasetVersion"
    },
    {
     "datasetId": 2950449,
     "sourceId": 5081220,
     "sourceType": "datasetVersion"
    },
    {
     "datasetId": 4607618,
     "sourceId": 7855818,
     "sourceType": "datasetVersion"
    },
    {
     "datasetId": 4612823,
     "sourceId": 7863059,
     "sourceType": "datasetVersion"
    }
   ],
   "dockerImageVersionId": 30664,
   "isGpuEnabled": false,
   "isInternetEnabled": false,
   "language": "python",
   "sourceType": "notebook"
  },
  "kernelspec": {
   "display_name": "Python 3",
   "language": "python",
   "name": "python3"
  },
  "language_info": {
   "codemirror_mode": {
    "name": "ipython",
    "version": 3
   },
   "file_extension": ".py",
   "mimetype": "text/x-python",
   "name": "python",
   "nbconvert_exporter": "python",
   "pygments_lexer": "ipython3",
   "version": "3.10.13"
  },
  "papermill": {
   "default_parameters": {},
   "duration": 61.857672,
   "end_time": "2024-03-21T16:40:55.423791",
   "environment_variables": {},
   "exception": null,
   "input_path": "__notebook__.ipynb",
   "output_path": "__notebook__.ipynb",
   "parameters": {},
   "start_time": "2024-03-21T16:39:53.566119",
   "version": "2.5.0"
  }
 },
 "nbformat": 4,
 "nbformat_minor": 5
}
